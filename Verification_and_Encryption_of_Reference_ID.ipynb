{
  "nbformat": 4,
  "nbformat_minor": 0,
  "metadata": {
    "colab": {
      "provenance": [],
      "authorship_tag": "ABX9TyPtjG7OK0qczVcn3bkIT8mb",
      "include_colab_link": true
    },
    "kernelspec": {
      "name": "python3",
      "display_name": "Python 3"
    },
    "language_info": {
      "name": "python"
    }
  },
  "cells": [
    {
      "cell_type": "markdown",
      "metadata": {
        "id": "view-in-github",
        "colab_type": "text"
      },
      "source": [
        "<a href=\"https://colab.research.google.com/github/Duku-code/Duku/blob/main/Verification_and_Encryption_of_Reference_ID.ipynb\" target=\"_parent\"><img src=\"https://colab.research.google.com/assets/colab-badge.svg\" alt=\"Open In Colab\"/></a>"
      ]
    },
    {
      "cell_type": "code",
      "execution_count": null,
      "metadata": {
        "colab": {
          "base_uri": "https://localhost:8080/"
        },
        "id": "RawVD0GM1TRN",
        "outputId": "7bddda74-cb23-49fd-c464-12bf72c7dc14"
      },
      "outputs": [
        {
          "output_type": "stream",
          "name": "stdout",
          "text": [
            "c775e7b757ede630cd0aa1113bd102661ab38829ca52a6422ab782862f268646\n"
          ]
        }
      ],
      "source": [
        "import hashlib\n",
        "\n",
        "def encrypt_reference_id(reference_id):\n",
        "  \"\"\"Encrypts the Reference ID using SHA-256.\"\"\"\n",
        "  hash_digest = hashlib.sha256(reference_id.encode()).hexdigest()\n",
        "  return hash_digest\n",
        "\n",
        "def main():\n",
        "  reference_id = \"1234567890\"\n",
        "  encrypted_reference_id = encrypt_reference_id(reference_id)\n",
        "  print(encrypted_reference_id)\n",
        "\n",
        "if __name__ == \"__main__\":\n",
        "  main()\n"
      ]
    },
    {
      "cell_type": "code",
      "source": [
        "import sys\n",
        "\n",
        "def main():\n",
        "  reference_id = sys.argv[1]\n",
        "  encrypted_reference_id = encrypt_reference_id(reference_id)\n",
        "  print(encrypted_reference_id)\n",
        "\n",
        "if __name__ == \"__main__\":\n",
        "  main()\n"
      ],
      "metadata": {
        "colab": {
          "base_uri": "https://localhost:8080/"
        },
        "id": "jgmudO9_1nVZ",
        "outputId": "4b31b740-b493-4676-a46f-22e96af1686a"
      },
      "execution_count": null,
      "outputs": [
        {
          "output_type": "stream",
          "name": "stdout",
          "text": [
            "0e6503c1ece40e4ea7668463248ea2716eb37643f2c2c605f8bcee4d195a1705\n"
          ]
        }
      ]
    },
    {
      "cell_type": "code",
      "source": [
        "def main():\n",
        "  fingerprint = sys.argv[1]\n",
        "  reference_id = sys.argv[2]\n",
        "  encrypted_reference_id = encrypt_reference_id(reference_id)\n",
        "  print(encrypted_reference_id)\n",
        "\n",
        "if __name__ == \"__main__\":\n",
        "  main()\n"
      ],
      "metadata": {
        "colab": {
          "base_uri": "https://localhost:8080/"
        },
        "id": "12oVlzJv1nYe",
        "outputId": "006144d0-96bb-44c7-c0db-e44215f3c59c"
      },
      "execution_count": null,
      "outputs": [
        {
          "output_type": "stream",
          "name": "stdout",
          "text": [
            "8256a04285ca63378f56e0838ee58abdbe17d6112d24cdf0c585603d6b6f9438\n"
          ]
        }
      ]
    },
    {
      "cell_type": "code",
      "source": [
        "import re\n",
        "\n",
        "def is_valid_reference_id(reference_id):\n",
        "  regex = \"^[0-9a-zA-Z]{12}$\"\n",
        "  if not re.match(regex, reference_id):\n",
        "    return False\n",
        "  return True\n",
        "\n",
        "def main():\n",
        "  reference_id = \"1234567890\"\n",
        "  if is_valid_reference_id(reference_id):\n",
        "    print(\"The Reference ID is valid.\")\n",
        "  else:\n",
        "    print(\"The Reference ID is invalid.\")\n",
        "\n",
        "if __name__ == \"__main__\":\n",
        "  main()\n"
      ],
      "metadata": {
        "colab": {
          "base_uri": "https://localhost:8080/"
        },
        "id": "nwzuQ2jp1ndc",
        "outputId": "4a6b7c4f-bf84-4b40-f1c8-267bab8f3562"
      },
      "execution_count": null,
      "outputs": [
        {
          "output_type": "stream",
          "name": "stdout",
          "text": [
            "The Reference ID is invalid.\n"
          ]
        }
      ]
    }
  ]
}