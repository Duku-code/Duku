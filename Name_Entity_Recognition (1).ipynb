{
  "cells": [
    {
      "cell_type": "code",
      "execution_count": 17,
      "metadata": {
        "colab": {
          "base_uri": "https://localhost:8080/"
        },
        "id": "F5HjgxGfV_LM",
        "outputId": "9e13f88a-0930-439e-e8d7-edb494d8c2af"
      },
      "outputs": [
        {
          "output_type": "stream",
          "name": "stdout",
          "text": [
            "/content\n"
          ]
        }
      ],
      "source": [
        "import os\n",
        "print(os.getcwd())"
      ]
    },
    {
      "cell_type": "code",
      "execution_count": 18,
      "metadata": {
        "id": "EBGlVV9DWD__"
      },
      "outputs": [],
      "source": [
        "os.mkdir('/content/Taxt_mining_NLP')"
      ]
    },
    {
      "cell_type": "code",
      "execution_count": 19,
      "metadata": {
        "id": "4bumjVxxWEDd",
        "colab": {
          "base_uri": "https://localhost:8080/"
        },
        "outputId": "19717d6e-cab3-48b5-e67b-40af36f5a6d2"
      },
      "outputs": [
        {
          "output_type": "stream",
          "name": "stdout",
          "text": [
            "/content/Taxt_mining_NLP\n"
          ]
        }
      ],
      "source": [
        "os.chdir('/content/Taxt_mining_NLP')\n",
        "print(os.getcwd())"
      ]
    },
    {
      "cell_type": "code",
      "execution_count": 2,
      "metadata": {
        "colab": {
          "base_uri": "https://localhost:8080/"
        },
        "id": "GHAHHUiCWEHV",
        "outputId": "0711dec0-f9f6-4b95-841e-d53f9765b381"
      },
      "outputs": [
        {
          "output_type": "stream",
          "name": "stdout",
          "text": [
            "[('European', 'NORP'), ('Google', 'ORG'), ('$5.1 billion', 'MONEY'), ('Wednesday', 'DATE')]\n"
          ]
        }
      ],
      "source": [
        "import spacy\n",
        "from spacy import displacy\n",
        "from collections import Counter\n",
        "import en_core_web_sm\n",
        "nlp = en_core_web_sm.load()\n",
        "doc = nlp('European authorities fined Google a record $5.1 billion on Wednesday for abusing its power in the mobile phone market and ordered the company to alter its practices')\n",
        "print([(X.text, X.label_) for X in doc.ents])"
      ]
    },
    {
      "cell_type": "code",
      "execution_count": 3,
      "metadata": {
        "id": "M3C7LzQsWEK2",
        "colab": {
          "base_uri": "https://localhost:8080/",
          "height": 52
        },
        "outputId": "b171343f-90d5-4ebb-8a4a-fe4ff93c2dc0"
      },
      "outputs": [
        {
          "output_type": "display_data",
          "data": {
            "text/plain": [
              "<IPython.core.display.HTML object>"
            ],
            "text/html": [
              "<span class=\"tex2jax_ignore\"><div class=\"entities\" style=\"line-height: 2.5; direction: ltr\">\n",
              "<mark class=\"entity\" style=\"background: #c887fb; padding: 0.45em 0.6em; margin: 0 0.25em; line-height: 1; border-radius: 0.35em;\">\n",
              "    European\n",
              "    <span style=\"font-size: 0.8em; font-weight: bold; line-height: 1; border-radius: 0.35em; vertical-align: middle; margin-left: 0.5rem\">NORP</span>\n",
              "</mark>\n",
              " authorities fined \n",
              "<mark class=\"entity\" style=\"background: #7aecec; padding: 0.45em 0.6em; margin: 0 0.25em; line-height: 1; border-radius: 0.35em;\">\n",
              "    Google\n",
              "    <span style=\"font-size: 0.8em; font-weight: bold; line-height: 1; border-radius: 0.35em; vertical-align: middle; margin-left: 0.5rem\">ORG</span>\n",
              "</mark>\n",
              " a record \n",
              "<mark class=\"entity\" style=\"background: #e4e7d2; padding: 0.45em 0.6em; margin: 0 0.25em; line-height: 1; border-radius: 0.35em;\">\n",
              "    $5.1 billion\n",
              "    <span style=\"font-size: 0.8em; font-weight: bold; line-height: 1; border-radius: 0.35em; vertical-align: middle; margin-left: 0.5rem\">MONEY</span>\n",
              "</mark>\n",
              " on \n",
              "<mark class=\"entity\" style=\"background: #bfe1d9; padding: 0.45em 0.6em; margin: 0 0.25em; line-height: 1; border-radius: 0.35em;\">\n",
              "    Wednesday\n",
              "    <span style=\"font-size: 0.8em; font-weight: bold; line-height: 1; border-radius: 0.35em; vertical-align: middle; margin-left: 0.5rem\">DATE</span>\n",
              "</mark>\n",
              " for abusing its power in the mobile phone market and ordered the company to alter its practices</div></span>"
            ]
          },
          "metadata": {}
        }
      ],
      "source": [
        "displacy.render(nlp(str('European authorities fined Google a record $5.1 billion on Wednesday for abusing its power in the mobile phone market and ordered the company to alter its practices')), jupyter=True, style='ent')"
      ]
    },
    {
      "cell_type": "code",
      "execution_count": 8,
      "metadata": {
        "id": "xwgjN5AqWEOQ",
        "colab": {
          "base_uri": "https://localhost:8080/"
        },
        "outputId": "c32dcde9-23b0-4195-801c-6c6b8bb209de"
      },
      "outputs": [
        {
          "output_type": "stream",
          "name": "stdout",
          "text": [
            "[('Duku', 'PERSON'), ('Juba', 'GPE'), ('South Sudan', 'GPE')]\n"
          ]
        }
      ],
      "source": [
        "# prompt: wrire a  python code to do name entity eccognition\n",
        "\n",
        "import spacy\n",
        "from spacy import displacy\n",
        "nlp = spacy.load(\"en_core_web_sm\")\n",
        "text = \"Duku was born in Juba, South Sudan.\"\n",
        "doc = nlp(text)\n",
        "print([(ent.text, ent.label_) for ent in doc.ents])"
      ]
    },
    {
      "cell_type": "code",
      "execution_count": 16,
      "metadata": {
        "id": "ihD6ALhwWESF",
        "colab": {
          "base_uri": "https://localhost:8080/",
          "height": 52
        },
        "outputId": "b67375d9-03c4-4ca9-da79-2afea5fa4da8"
      },
      "outputs": [
        {
          "output_type": "display_data",
          "data": {
            "text/plain": [
              "<IPython.core.display.HTML object>"
            ],
            "text/html": [
              "<span class=\"tex2jax_ignore\"><div class=\"entities\" style=\"line-height: 2.5; direction: ltr\">\n",
              "<mark class=\"entity\" style=\"background: #aa9cfc; padding: 0.45em 0.6em; margin: 0 0.25em; line-height: 1; border-radius: 0.35em;\">\n",
              "    Duku James Mathew\n",
              "    <span style=\"font-size: 0.8em; font-weight: bold; line-height: 1; border-radius: 0.35em; vertical-align: middle; margin-left: 0.5rem\">PERSON</span>\n",
              "</mark>\n",
              " was born in \n",
              "<mark class=\"entity\" style=\"background: #feca74; padding: 0.45em 0.6em; margin: 0 0.25em; line-height: 1; border-radius: 0.35em;\">\n",
              "    Mugali\n",
              "    <span style=\"font-size: 0.8em; font-weight: bold; line-height: 1; border-radius: 0.35em; vertical-align: middle; margin-left: 0.5rem\">GPE</span>\n",
              "</mark>\n",
              ", \n",
              "<mark class=\"entity\" style=\"background: #feca74; padding: 0.45em 0.6em; margin: 0 0.25em; line-height: 1; border-radius: 0.35em;\">\n",
              "    South Sudan\n",
              "    <span style=\"font-size: 0.8em; font-weight: bold; line-height: 1; border-radius: 0.35em; vertical-align: middle; margin-left: 0.5rem\">GPE</span>\n",
              "</mark>\n",
              ". Started working with \n",
              "<mark class=\"entity\" style=\"background: #7aecec; padding: 0.45em 0.6em; margin: 0 0.25em; line-height: 1; border-radius: 0.35em;\">\n",
              "    Google\n",
              "    <span style=\"font-size: 0.8em; font-weight: bold; line-height: 1; border-radius: 0.35em; vertical-align: middle; margin-left: 0.5rem\">ORG</span>\n",
              "</mark>\n",
              " in \n",
              "<mark class=\"entity\" style=\"background: #bfe1d9; padding: 0.45em 0.6em; margin: 0 0.25em; line-height: 1; border-radius: 0.35em;\">\n",
              "    2023\n",
              "    <span style=\"font-size: 0.8em; font-weight: bold; line-height: 1; border-radius: 0.35em; vertical-align: middle; margin-left: 0.5rem\">DATE</span>\n",
              "</mark>\n",
              " and his estimated salary is $\n",
              "<mark class=\"entity\" style=\"background: #e4e7d2; padding: 0.45em 0.6em; margin: 0 0.25em; line-height: 1; border-radius: 0.35em;\">\n",
              "    20000\n",
              "    <span style=\"font-size: 0.8em; font-weight: bold; line-height: 1; border-radius: 0.35em; vertical-align: middle; margin-left: 0.5rem\">MONEY</span>\n",
              "</mark>\n",
              " in the field of artificial intelligence and Machine learning</div></span>"
            ]
          },
          "metadata": {}
        }
      ],
      "source": [
        "displacy.render(nlp(str('Duku James Mathew was born in Mugali, South Sudan. Started working with Google in 2023 and his estimated salary is $20000 in the field of artificial intelligence and Machine learning')), jupyter=True, style='ent')"
      ]
    },
    {
      "cell_type": "code",
      "source": [
        "import spacy\n",
        "from spacy import displacy\n",
        "from collections import Counter\n",
        "import en_core_web_sm\n",
        "nlp = en_core_web_sm.load()\n",
        "doc = nlp(\"According to the news Indian's City Bengaluru is like silicon valley big companies such as Google, Microsoft and CISCO invest a lot of money close to $2 billion. Sam Altman having conference in Guwahati\")\n",
        "print([(X.text, X.label_) for X in doc.ents])"
      ],
      "metadata": {
        "colab": {
          "base_uri": "https://localhost:8080/"
        },
        "id": "SLQp8eH3ZhsN",
        "outputId": "f45560cf-2e60-442a-8f63-973bc90fd23c"
      },
      "execution_count": 3,
      "outputs": [
        {
          "output_type": "stream",
          "name": "stdout",
          "text": [
            "[('Indian', 'NORP'), ('Google', 'ORG'), ('Microsoft', 'ORG'), ('CISCO', 'ORG'), ('close to $2 billion', 'MONEY'), ('Sam Altman', 'PERSON'), ('Guwahati', 'GPE')]\n"
          ]
        }
      ]
    },
    {
      "cell_type": "code",
      "source": [
        "displacy.render(nlp(str('According to the news Indians City Bengaluru is like silicon valley big companies such as Google, Microsoft and CISCO invest a lot of money close to $2 billion. Sam Altman having conference in Guwahati')), jupyter=True, style='ent')"
      ],
      "metadata": {
        "colab": {
          "base_uri": "https://localhost:8080/",
          "height": 52
        },
        "id": "7d6X7cypbh4j",
        "outputId": "4c258a51-a8e8-42d6-8118-157512b91406"
      },
      "execution_count": 4,
      "outputs": [
        {
          "output_type": "display_data",
          "data": {
            "text/plain": [
              "<IPython.core.display.HTML object>"
            ],
            "text/html": [
              "<span class=\"tex2jax_ignore\"><div class=\"entities\" style=\"line-height: 2.5; direction: ltr\">According to the news \n",
              "<mark class=\"entity\" style=\"background: #feca74; padding: 0.45em 0.6em; margin: 0 0.25em; line-height: 1; border-radius: 0.35em;\">\n",
              "    Indians City Bengaluru\n",
              "    <span style=\"font-size: 0.8em; font-weight: bold; line-height: 1; border-radius: 0.35em; vertical-align: middle; margin-left: 0.5rem\">GPE</span>\n",
              "</mark>\n",
              " is like silicon valley big companies such as \n",
              "<mark class=\"entity\" style=\"background: #7aecec; padding: 0.45em 0.6em; margin: 0 0.25em; line-height: 1; border-radius: 0.35em;\">\n",
              "    Google\n",
              "    <span style=\"font-size: 0.8em; font-weight: bold; line-height: 1; border-radius: 0.35em; vertical-align: middle; margin-left: 0.5rem\">ORG</span>\n",
              "</mark>\n",
              ", \n",
              "<mark class=\"entity\" style=\"background: #7aecec; padding: 0.45em 0.6em; margin: 0 0.25em; line-height: 1; border-radius: 0.35em;\">\n",
              "    Microsoft\n",
              "    <span style=\"font-size: 0.8em; font-weight: bold; line-height: 1; border-radius: 0.35em; vertical-align: middle; margin-left: 0.5rem\">ORG</span>\n",
              "</mark>\n",
              " and \n",
              "<mark class=\"entity\" style=\"background: #7aecec; padding: 0.45em 0.6em; margin: 0 0.25em; line-height: 1; border-radius: 0.35em;\">\n",
              "    CISCO\n",
              "    <span style=\"font-size: 0.8em; font-weight: bold; line-height: 1; border-radius: 0.35em; vertical-align: middle; margin-left: 0.5rem\">ORG</span>\n",
              "</mark>\n",
              " invest a lot of money \n",
              "<mark class=\"entity\" style=\"background: #e4e7d2; padding: 0.45em 0.6em; margin: 0 0.25em; line-height: 1; border-radius: 0.35em;\">\n",
              "    close to $2 billion\n",
              "    <span style=\"font-size: 0.8em; font-weight: bold; line-height: 1; border-radius: 0.35em; vertical-align: middle; margin-left: 0.5rem\">MONEY</span>\n",
              "</mark>\n",
              ". \n",
              "<mark class=\"entity\" style=\"background: #aa9cfc; padding: 0.45em 0.6em; margin: 0 0.25em; line-height: 1; border-radius: 0.35em;\">\n",
              "    Sam Altman\n",
              "    <span style=\"font-size: 0.8em; font-weight: bold; line-height: 1; border-radius: 0.35em; vertical-align: middle; margin-left: 0.5rem\">PERSON</span>\n",
              "</mark>\n",
              " having conference in \n",
              "<mark class=\"entity\" style=\"background: #feca74; padding: 0.45em 0.6em; margin: 0 0.25em; line-height: 1; border-radius: 0.35em;\">\n",
              "    Guwahati\n",
              "    <span style=\"font-size: 0.8em; font-weight: bold; line-height: 1; border-radius: 0.35em; vertical-align: middle; margin-left: 0.5rem\">GPE</span>\n",
              "</mark>\n",
              "</div></span>"
            ]
          },
          "metadata": {}
        }
      ]
    },
    {
      "cell_type": "code",
      "execution_count": 14,
      "metadata": {
        "id": "Vy5lyfsRWEVZ",
        "colab": {
          "base_uri": "https://localhost:8080/"
        },
        "outputId": "843efa09-c9ea-4945-ca46-f265d9edb3d3"
      },
      "outputs": [
        {
          "output_type": "stream",
          "name": "stdout",
          "text": [
            "[('Duku', 1), ('was', 1), ('born', 1), ('in', 1), ('Juba', 1)]\n"
          ]
        }
      ],
      "source": [
        "word_counts = Counter()\n",
        "for token in doc:\n",
        "  word_counts[token.text] += 1\n",
        "top_words = word_counts.most_common(5)\n",
        "print(top_words)"
      ]
    },
    {
      "cell_type": "code",
      "execution_count": 26,
      "metadata": {
        "id": "nrrvXT4ZWEgF",
        "colab": {
          "base_uri": "https://localhost:8080/"
        },
        "outputId": "65bed5cf-469b-4993-d031-04a8ba955551"
      },
      "outputs": [
        {
          "output_type": "stream",
          "name": "stdout",
          "text": [
            "Duku James Mathew was born in Mugali, South Sudan. Started working with Google in 2023 and his estimated salary is $20000 in the field of artificial intelligence and Machine learning\n"
          ]
        }
      ],
      "source": [
        "doc = nlp(u\"Duku James Mathew was born in Mugali, South Sudan. Started working with Google in 2023 and his estimated salary is $20000 in the field of artificial intelligence and Machine learning\")\n",
        "print(doc.text)"
      ]
    },
    {
      "cell_type": "code",
      "execution_count": 30,
      "metadata": {
        "colab": {
          "base_uri": "https://localhost:8080/"
        },
        "id": "MUwaPBqhWEou",
        "outputId": "33cefbe9-43c9-4bb2-8500-cf1d3bfc47a3"
      },
      "outputs": [
        {
          "output_type": "stream",
          "name": "stdout",
          "text": [
            "was AUX VBD verb, past tense\n"
          ]
        }
      ],
      "source": [
        "print(doc[3].text, doc[3].pos_, doc[3].tag_, spacy.explain(doc[3].tag_))"
      ]
    },
    {
      "cell_type": "code",
      "source": [
        "doc = nlp(u'European authorities fined Google a record $5.1 billion on Wednesday for abusing its power in the mobile phone market and ordered the company to alter its practices')\n",
        "for token in doc:\n",
        "  print(token.text, token.pos_, token.tag_, spacy.explain(token.tag_))\n"
      ],
      "metadata": {
        "colab": {
          "base_uri": "https://localhost:8080/"
        },
        "id": "oNXxDbZPNn8R",
        "outputId": "92447c7d-4a60-4b73-a781-d493b04e5c15"
      },
      "execution_count": 33,
      "outputs": [
        {
          "output_type": "stream",
          "name": "stdout",
          "text": [
            "European ADJ JJ adjective (English), other noun-modifier (Chinese)\n",
            "authorities NOUN NNS noun, plural\n",
            "fined VERB VBD verb, past tense\n",
            "Google PROPN NNP noun, proper singular\n",
            "a DET DT determiner\n",
            "record NOUN NN noun, singular or mass\n",
            "$ SYM $ symbol, currency\n",
            "5.1 NUM CD cardinal number\n",
            "billion NUM CD cardinal number\n",
            "on ADP IN conjunction, subordinating or preposition\n",
            "Wednesday PROPN NNP noun, proper singular\n",
            "for ADP IN conjunction, subordinating or preposition\n",
            "abusing VERB VBG verb, gerund or present participle\n",
            "its PRON PRP$ pronoun, possessive\n",
            "power NOUN NN noun, singular or mass\n",
            "in ADP IN conjunction, subordinating or preposition\n",
            "the DET DT determiner\n",
            "mobile ADJ JJ adjective (English), other noun-modifier (Chinese)\n",
            "phone NOUN NN noun, singular or mass\n",
            "market NOUN NN noun, singular or mass\n",
            "and CCONJ CC conjunction, coordinating\n",
            "ordered VERB VBD verb, past tense\n",
            "the DET DT determiner\n",
            "company NOUN NN noun, singular or mass\n",
            "to PART TO infinitival \"to\"\n",
            "alter VERB VB verb, base form\n",
            "its PRON PRP$ pronoun, possessive\n",
            "practices NOUN NNS noun, plural\n"
          ]
        }
      ]
    }
  ],
  "metadata": {
    "colab": {
      "provenance": []
    },
    "kernelspec": {
      "display_name": "Python 3",
      "name": "python3"
    },
    "language_info": {
      "name": "python"
    }
  },
  "nbformat": 4,
  "nbformat_minor": 0
}