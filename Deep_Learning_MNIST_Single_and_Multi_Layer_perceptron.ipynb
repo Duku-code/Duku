{
  "nbformat": 4,
  "nbformat_minor": 0,
  "metadata": {
    "colab": {
      "provenance": []
    },
    "kernelspec": {
      "name": "python3",
      "display_name": "Python 3"
    },
    "language_info": {
      "name": "python"
    }
  },
  "cells": [
    {
      "cell_type": "code",
      "source": [
        "!pip install tensorflow"
      ],
      "metadata": {
        "id": "QfX4hg0c9a5X"
      },
      "execution_count": null,
      "outputs": []
    },
    {
      "cell_type": "code",
      "source": [
        "#verify the installation\n",
        "import tensorflow as tf\n",
        "from tensorflow import keras \n",
        "\n",
        "#Check tf.keras version\n",
        "print(tf.keras.__version__)\n"
      ],
      "metadata": {
        "id": "djk9Uw289a8e",
        "colab": {
          "base_uri": "https://localhost:8080/"
        },
        "outputId": "8786e3c2-4f3e-4254-c8ac-fe224ba69ece"
      },
      "execution_count": 1,
      "outputs": [
        {
          "output_type": "stream",
          "name": "stdout",
          "text": [
            "2.12.0\n"
          ]
        }
      ]
    },
    {
      "cell_type": "code",
      "source": [
        "# Loading MNIST dataset\n",
        "mnist = keras.datasets.mnist \n",
        "(X_train, Y_train), (X_test, Y_test) = mnist.load_data()"
      ],
      "metadata": {
        "id": "tbkDCFhS9bG1",
        "colab": {
          "base_uri": "https://localhost:8080/"
        },
        "outputId": "7373368f-79c6-4a9b-e89f-f3a60387c26e"
      },
      "execution_count": 2,
      "outputs": [
        {
          "output_type": "stream",
          "name": "stdout",
          "text": [
            "Downloading data from https://storage.googleapis.com/tensorflow/tf-keras-datasets/mnist.npz\n",
            "11490434/11490434 [==============================] - 0s 0us/step\n"
          ]
        }
      ]
    },
    {
      "cell_type": "code",
      "source": [
        "# Data Exploration\n",
        "print(X_train.shape)\n",
        "print(X_test.shape)"
      ],
      "metadata": {
        "id": "2f17BswH5705",
        "colab": {
          "base_uri": "https://localhost:8080/"
        },
        "outputId": "646f6606-a235-40ac-ceed-de88ab391da8"
      },
      "execution_count": 3,
      "outputs": [
        {
          "output_type": "stream",
          "name": "stdout",
          "text": [
            "(60000, 28, 28)\n",
            "(10000, 28, 28)\n"
          ]
        }
      ]
    },
    {
      "cell_type": "code",
      "source": [
        "X_train = X_train.astype('float32')\n",
        "X_test = X_test.astype('float32') "
      ],
      "metadata": {
        "id": "_xNsicfDkp7r"
      },
      "execution_count": 4,
      "outputs": []
    },
    {
      "cell_type": "code",
      "source": [
        "# X_train is 60000 rows of 28x28 values; we reshape it to # 60000 x 784. \n",
        "RESHAPED = 784 # 28x28 = 784 neurons\n",
        "X_train = X_train.reshape(60000, RESHAPED) \n",
        "X_test = X_test.reshape(10000, RESHAPED) \n",
        "\n",
        "# Data is converted into float32 to use 32-bit precision # when training a neural network \n",
        "X_train = X_train.astype('float32')\n",
        "X_test = X_test.astype('float32') \n",
        "\n",
        "# Normalizing the input to be within the range [0,1]\n",
        "X_train /= 255\n",
        "#intensity of each pixel is divided by 255, the maximum intensity value\n",
        "X_test /= 255\n",
        "print(X_train.shape[0], 'train samples') \n",
        "print(X_test.shape[0], 'test samples') \n",
        "\n",
        "# One-hot representation of the labels.\n",
        "Y_train = tf.keras.utils.to_categorical(Y_train, 10) \n",
        "Y_test = tf.keras.utils.to_categorical(Y_test, 10)"
      ],
      "metadata": {
        "colab": {
          "base_uri": "https://localhost:8080/"
        },
        "id": "MY_WdB5pkqBL",
        "outputId": "93db8e84-0e05-4f84-9677-2848b36d5ced"
      },
      "execution_count": 5,
      "outputs": [
        {
          "output_type": "stream",
          "name": "stdout",
          "text": [
            "60000 train samples\n",
            "10000 test samples\n"
          ]
        }
      ]
    },
    {
      "cell_type": "code",
      "source": [
        "import tensorflow as tf\n",
        "from tensorflow.keras.layers import Dense\n",
        "from tensorflow.keras import Sequential\n",
        "model_0 = Sequential()\n",
        "# Now the model will take as input arrays of shape (*, 784)# and output arrays of shape (*, 10)\n",
        "model_0.add(Dense(10,input_shape=(784,),name='dense_layer', activation='softmax')) "
      ],
      "metadata": {
        "id": "Gjpd11ldkqGD"
      },
      "execution_count": 6,
      "outputs": []
    },
    {
      "cell_type": "code",
      "source": [
        "# Compiling the model.\n",
        "model_0.compile(optimizer='SGD', \n",
        "              loss='categorical_crossentropy',\n",
        "              metrics=['accuracy'])"
      ],
      "metadata": {
        "id": "Ut7IHrhF5785"
      },
      "execution_count": 7,
      "outputs": []
    },
    {
      "cell_type": "code",
      "source": [
        "# Training the model. \n",
        "training = model_0.fit(X_train, Y_train, batch_size=64, epochs=70, validation_split=0.2) "
      ],
      "metadata": {
        "colab": {
          "base_uri": "https://localhost:8080/"
        },
        "id": "JuYBPvYglLQZ",
        "outputId": "f36965b3-0741-4270-a876-de7112cf5cd6"
      },
      "execution_count": 8,
      "outputs": [
        {
          "output_type": "stream",
          "name": "stdout",
          "text": [
            "Epoch 1/70\n",
            "750/750 [==============================] - 3s 3ms/step - loss: 1.1264 - accuracy: 0.7307 - val_loss: 0.6616 - val_accuracy: 0.8572\n",
            "Epoch 2/70\n",
            "750/750 [==============================] - 2s 2ms/step - loss: 0.6094 - accuracy: 0.8561 - val_loss: 0.5092 - val_accuracy: 0.8777\n",
            "Epoch 3/70\n",
            "750/750 [==============================] - 2s 2ms/step - loss: 0.5119 - accuracy: 0.8717 - val_loss: 0.4502 - val_accuracy: 0.8874\n",
            "Epoch 4/70\n",
            "750/750 [==============================] - 2s 2ms/step - loss: 0.4654 - accuracy: 0.8801 - val_loss: 0.4175 - val_accuracy: 0.8919\n",
            "Epoch 5/70\n",
            "750/750 [==============================] - 2s 2ms/step - loss: 0.4367 - accuracy: 0.8851 - val_loss: 0.3961 - val_accuracy: 0.8973\n",
            "Epoch 6/70\n",
            "750/750 [==============================] - 3s 3ms/step - loss: 0.4169 - accuracy: 0.8885 - val_loss: 0.3810 - val_accuracy: 0.9003\n",
            "Epoch 7/70\n",
            "750/750 [==============================] - 3s 4ms/step - loss: 0.4020 - accuracy: 0.8916 - val_loss: 0.3696 - val_accuracy: 0.9032\n",
            "Epoch 8/70\n",
            "750/750 [==============================] - 2s 2ms/step - loss: 0.3904 - accuracy: 0.8940 - val_loss: 0.3606 - val_accuracy: 0.9046\n",
            "Epoch 9/70\n",
            "750/750 [==============================] - 2s 2ms/step - loss: 0.3809 - accuracy: 0.8963 - val_loss: 0.3533 - val_accuracy: 0.9057\n",
            "Epoch 10/70\n",
            "750/750 [==============================] - 1s 2ms/step - loss: 0.3731 - accuracy: 0.8973 - val_loss: 0.3473 - val_accuracy: 0.9064\n",
            "Epoch 11/70\n",
            "750/750 [==============================] - 1s 2ms/step - loss: 0.3664 - accuracy: 0.8998 - val_loss: 0.3417 - val_accuracy: 0.9076\n",
            "Epoch 12/70\n",
            "750/750 [==============================] - 2s 2ms/step - loss: 0.3607 - accuracy: 0.9010 - val_loss: 0.3373 - val_accuracy: 0.9087\n",
            "Epoch 13/70\n",
            "750/750 [==============================] - 2s 2ms/step - loss: 0.3556 - accuracy: 0.9018 - val_loss: 0.3332 - val_accuracy: 0.9104\n",
            "Epoch 14/70\n",
            "750/750 [==============================] - 2s 3ms/step - loss: 0.3510 - accuracy: 0.9031 - val_loss: 0.3297 - val_accuracy: 0.9108\n",
            "Epoch 15/70\n",
            "750/750 [==============================] - 2s 3ms/step - loss: 0.3471 - accuracy: 0.9038 - val_loss: 0.3265 - val_accuracy: 0.9118\n",
            "Epoch 16/70\n",
            "750/750 [==============================] - 2s 2ms/step - loss: 0.3434 - accuracy: 0.9048 - val_loss: 0.3239 - val_accuracy: 0.9122\n",
            "Epoch 17/70\n",
            "750/750 [==============================] - 2s 2ms/step - loss: 0.3401 - accuracy: 0.9059 - val_loss: 0.3211 - val_accuracy: 0.9118\n",
            "Epoch 18/70\n",
            "750/750 [==============================] - 2s 2ms/step - loss: 0.3372 - accuracy: 0.9064 - val_loss: 0.3190 - val_accuracy: 0.9122\n",
            "Epoch 19/70\n",
            "750/750 [==============================] - 1s 2ms/step - loss: 0.3344 - accuracy: 0.9070 - val_loss: 0.3169 - val_accuracy: 0.9127\n",
            "Epoch 20/70\n",
            "750/750 [==============================] - 2s 2ms/step - loss: 0.3318 - accuracy: 0.9075 - val_loss: 0.3148 - val_accuracy: 0.9131\n",
            "Epoch 21/70\n",
            "750/750 [==============================] - 2s 2ms/step - loss: 0.3295 - accuracy: 0.9083 - val_loss: 0.3130 - val_accuracy: 0.9142\n",
            "Epoch 22/70\n",
            "750/750 [==============================] - 2s 3ms/step - loss: 0.3272 - accuracy: 0.9092 - val_loss: 0.3112 - val_accuracy: 0.9147\n",
            "Epoch 23/70\n",
            "750/750 [==============================] - 2s 2ms/step - loss: 0.3252 - accuracy: 0.9092 - val_loss: 0.3097 - val_accuracy: 0.9146\n",
            "Epoch 24/70\n",
            "750/750 [==============================] - 2s 2ms/step - loss: 0.3233 - accuracy: 0.9101 - val_loss: 0.3080 - val_accuracy: 0.9146\n",
            "Epoch 25/70\n",
            "750/750 [==============================] - 2s 2ms/step - loss: 0.3214 - accuracy: 0.9106 - val_loss: 0.3067 - val_accuracy: 0.9148\n",
            "Epoch 26/70\n",
            "750/750 [==============================] - 2s 2ms/step - loss: 0.3197 - accuracy: 0.9108 - val_loss: 0.3056 - val_accuracy: 0.9154\n",
            "Epoch 27/70\n",
            "750/750 [==============================] - 2s 2ms/step - loss: 0.3181 - accuracy: 0.9116 - val_loss: 0.3044 - val_accuracy: 0.9158\n",
            "Epoch 28/70\n",
            "750/750 [==============================] - 2s 2ms/step - loss: 0.3165 - accuracy: 0.9120 - val_loss: 0.3029 - val_accuracy: 0.9158\n",
            "Epoch 29/70\n",
            "750/750 [==============================] - 2s 2ms/step - loss: 0.3151 - accuracy: 0.9125 - val_loss: 0.3020 - val_accuracy: 0.9162\n",
            "Epoch 30/70\n",
            "750/750 [==============================] - 2s 3ms/step - loss: 0.3138 - accuracy: 0.9136 - val_loss: 0.3010 - val_accuracy: 0.9158\n",
            "Epoch 31/70\n",
            "750/750 [==============================] - 2s 2ms/step - loss: 0.3124 - accuracy: 0.9135 - val_loss: 0.3001 - val_accuracy: 0.9163\n",
            "Epoch 32/70\n",
            "750/750 [==============================] - 2s 2ms/step - loss: 0.3113 - accuracy: 0.9139 - val_loss: 0.2990 - val_accuracy: 0.9166\n",
            "Epoch 33/70\n",
            "750/750 [==============================] - 2s 2ms/step - loss: 0.3100 - accuracy: 0.9145 - val_loss: 0.2982 - val_accuracy: 0.9173\n",
            "Epoch 34/70\n",
            "750/750 [==============================] - 2s 2ms/step - loss: 0.3088 - accuracy: 0.9147 - val_loss: 0.2975 - val_accuracy: 0.9172\n",
            "Epoch 35/70\n",
            "750/750 [==============================] - 2s 2ms/step - loss: 0.3078 - accuracy: 0.9148 - val_loss: 0.2965 - val_accuracy: 0.9172\n",
            "Epoch 36/70\n",
            "750/750 [==============================] - 2s 2ms/step - loss: 0.3067 - accuracy: 0.9151 - val_loss: 0.2959 - val_accuracy: 0.9175\n",
            "Epoch 37/70\n",
            "750/750 [==============================] - 2s 3ms/step - loss: 0.3057 - accuracy: 0.9154 - val_loss: 0.2951 - val_accuracy: 0.9179\n",
            "Epoch 38/70\n",
            "750/750 [==============================] - 2s 2ms/step - loss: 0.3047 - accuracy: 0.9154 - val_loss: 0.2944 - val_accuracy: 0.9175\n",
            "Epoch 39/70\n",
            "750/750 [==============================] - 2s 2ms/step - loss: 0.3039 - accuracy: 0.9156 - val_loss: 0.2936 - val_accuracy: 0.9185\n",
            "Epoch 40/70\n",
            "750/750 [==============================] - 2s 2ms/step - loss: 0.3029 - accuracy: 0.9158 - val_loss: 0.2930 - val_accuracy: 0.9183\n",
            "Epoch 41/70\n",
            "750/750 [==============================] - 2s 2ms/step - loss: 0.3021 - accuracy: 0.9163 - val_loss: 0.2923 - val_accuracy: 0.9191\n",
            "Epoch 42/70\n",
            "750/750 [==============================] - 2s 2ms/step - loss: 0.3013 - accuracy: 0.9165 - val_loss: 0.2917 - val_accuracy: 0.9182\n",
            "Epoch 43/70\n",
            "750/750 [==============================] - 1s 2ms/step - loss: 0.3004 - accuracy: 0.9166 - val_loss: 0.2912 - val_accuracy: 0.9185\n",
            "Epoch 44/70\n",
            "750/750 [==============================] - 2s 3ms/step - loss: 0.2996 - accuracy: 0.9165 - val_loss: 0.2909 - val_accuracy: 0.9187\n",
            "Epoch 45/70\n",
            "750/750 [==============================] - 2s 3ms/step - loss: 0.2989 - accuracy: 0.9167 - val_loss: 0.2904 - val_accuracy: 0.9187\n",
            "Epoch 46/70\n",
            "750/750 [==============================] - 2s 2ms/step - loss: 0.2982 - accuracy: 0.9170 - val_loss: 0.2896 - val_accuracy: 0.9190\n",
            "Epoch 47/70\n",
            "750/750 [==============================] - 2s 2ms/step - loss: 0.2975 - accuracy: 0.9174 - val_loss: 0.2891 - val_accuracy: 0.9193\n",
            "Epoch 48/70\n",
            "750/750 [==============================] - 2s 2ms/step - loss: 0.2968 - accuracy: 0.9173 - val_loss: 0.2886 - val_accuracy: 0.9193\n",
            "Epoch 49/70\n",
            "750/750 [==============================] - 2s 2ms/step - loss: 0.2961 - accuracy: 0.9175 - val_loss: 0.2883 - val_accuracy: 0.9196\n",
            "Epoch 50/70\n",
            "750/750 [==============================] - 2s 2ms/step - loss: 0.2954 - accuracy: 0.9177 - val_loss: 0.2878 - val_accuracy: 0.9192\n",
            "Epoch 51/70\n",
            "750/750 [==============================] - 2s 2ms/step - loss: 0.2949 - accuracy: 0.9181 - val_loss: 0.2873 - val_accuracy: 0.9202\n",
            "Epoch 52/70\n",
            "750/750 [==============================] - 3s 4ms/step - loss: 0.2942 - accuracy: 0.9183 - val_loss: 0.2870 - val_accuracy: 0.9198\n",
            "Epoch 53/70\n",
            "750/750 [==============================] - 2s 2ms/step - loss: 0.2937 - accuracy: 0.9184 - val_loss: 0.2864 - val_accuracy: 0.9200\n",
            "Epoch 54/70\n",
            "750/750 [==============================] - 2s 2ms/step - loss: 0.2931 - accuracy: 0.9186 - val_loss: 0.2861 - val_accuracy: 0.9202\n",
            "Epoch 55/70\n",
            "750/750 [==============================] - 2s 2ms/step - loss: 0.2925 - accuracy: 0.9190 - val_loss: 0.2859 - val_accuracy: 0.9204\n",
            "Epoch 56/70\n",
            "750/750 [==============================] - 2s 2ms/step - loss: 0.2920 - accuracy: 0.9188 - val_loss: 0.2852 - val_accuracy: 0.9206\n",
            "Epoch 57/70\n",
            "750/750 [==============================] - 2s 2ms/step - loss: 0.2914 - accuracy: 0.9188 - val_loss: 0.2848 - val_accuracy: 0.9211\n",
            "Epoch 58/70\n",
            "750/750 [==============================] - 2s 2ms/step - loss: 0.2909 - accuracy: 0.9193 - val_loss: 0.2845 - val_accuracy: 0.9208\n",
            "Epoch 59/70\n",
            "750/750 [==============================] - 2s 3ms/step - loss: 0.2904 - accuracy: 0.9199 - val_loss: 0.2842 - val_accuracy: 0.9202\n",
            "Epoch 60/70\n",
            "750/750 [==============================] - 2s 3ms/step - loss: 0.2899 - accuracy: 0.9194 - val_loss: 0.2839 - val_accuracy: 0.9204\n",
            "Epoch 61/70\n",
            "750/750 [==============================] - 2s 2ms/step - loss: 0.2894 - accuracy: 0.9199 - val_loss: 0.2836 - val_accuracy: 0.9206\n",
            "Epoch 62/70\n",
            "750/750 [==============================] - 2s 2ms/step - loss: 0.2890 - accuracy: 0.9199 - val_loss: 0.2833 - val_accuracy: 0.9212\n",
            "Epoch 63/70\n",
            "750/750 [==============================] - 2s 2ms/step - loss: 0.2885 - accuracy: 0.9197 - val_loss: 0.2830 - val_accuracy: 0.9208\n",
            "Epoch 64/70\n",
            "750/750 [==============================] - 2s 2ms/step - loss: 0.2880 - accuracy: 0.9200 - val_loss: 0.2827 - val_accuracy: 0.9211\n",
            "Epoch 65/70\n",
            "750/750 [==============================] - 2s 2ms/step - loss: 0.2876 - accuracy: 0.9204 - val_loss: 0.2825 - val_accuracy: 0.9211\n",
            "Epoch 66/70\n",
            "750/750 [==============================] - 2s 3ms/step - loss: 0.2872 - accuracy: 0.9204 - val_loss: 0.2822 - val_accuracy: 0.9212\n",
            "Epoch 67/70\n",
            "750/750 [==============================] - 2s 3ms/step - loss: 0.2867 - accuracy: 0.9204 - val_loss: 0.2818 - val_accuracy: 0.9215\n",
            "Epoch 68/70\n",
            "750/750 [==============================] - 2s 2ms/step - loss: 0.2863 - accuracy: 0.9206 - val_loss: 0.2817 - val_accuracy: 0.9218\n",
            "Epoch 69/70\n",
            "750/750 [==============================] - 2s 2ms/step - loss: 0.2859 - accuracy: 0.9209 - val_loss: 0.2812 - val_accuracy: 0.9216\n",
            "Epoch 70/70\n",
            "750/750 [==============================] - 1s 2ms/step - loss: 0.2855 - accuracy: 0.9209 - val_loss: 0.2811 - val_accuracy: 0.9222\n"
          ]
        }
      ]
    },
    {
      "cell_type": "code",
      "source": [
        "import matplotlib.pyplot as plt\n",
        "%matplotlib inline\n",
        "# list all data in training\n",
        "print(training.history.keys())\n",
        "# summarize training for accuracy\n",
        "plt.plot(training.history['accuracy'])\n",
        "plt.plot(training.history['val_accuracy'])\n",
        "plt.title('model accuracy')\n",
        "plt.ylabel('accuracy')\n",
        "plt.xlabel('epoch')\n",
        "plt.legend(['train', 'test'], loc='upper left')\n",
        "plt.show()\n",
        "# summarize traning for loss\n",
        "plt.plot(training.history['loss'])\n",
        "plt.plot(training.history['val_loss'])\n",
        "plt.title('model loss')\n",
        "plt.ylabel('loss')\n",
        "plt.xlabel('epoch')\n",
        "plt.legend(['train', 'test'], loc='upper left')\n",
        "plt.show()"
      ],
      "metadata": {
        "colab": {
          "base_uri": "https://localhost:8080/",
          "height": 944
        },
        "id": "F26BYx8GlLUG",
        "outputId": "85624501-5879-4a5b-8783-aaa2a966c737"
      },
      "execution_count": 9,
      "outputs": [
        {
          "output_type": "stream",
          "name": "stdout",
          "text": [
            "dict_keys(['loss', 'accuracy', 'val_loss', 'val_accuracy'])\n"
          ]
        },
        {
          "output_type": "display_data",
          "data": {
            "text/plain": [
              "<Figure size 640x480 with 1 Axes>"
            ],
            "image/png": "[encoded data removed]"
          },
          "metadata": {}
        },
        {
          "output_type": "display_data",
          "data": {
            "text/plain": [
              "<Figure size 640x480 with 1 Axes>"
            ],
            "image/png": "[encoded data removed]"
          },
          "metadata": {}
        }
      ]
    },
    {
      "cell_type": "code",
      "source": [
        "#evaluate the model\n",
        "test_loss, test_acc = model_0.evaluate(X_test, Y_test)\n",
        "print('Test accuracy:', test_acc)"
      ],
      "metadata": {
        "colab": {
          "base_uri": "https://localhost:8080/"
        },
        "id": "icnwouM-lLXu",
        "outputId": "4c8f60e6-ccd6-41d7-a3be-8f65d43250d0"
      },
      "execution_count": 10,
      "outputs": [
        {
          "output_type": "stream",
          "name": "stdout",
          "text": [
            "313/313 [==============================] - 0s 1ms/step - loss: 0.2830 - accuracy: 0.9216\n",
            "Test accuracy: 0.9215999841690063\n"
          ]
        }
      ]
    },
    {
      "cell_type": "code",
      "source": [
        "model_0.summary"
      ],
      "metadata": {
        "colab": {
          "base_uri": "https://localhost:8080/"
        },
        "id": "TkPyGvUql88E",
        "outputId": "e238c8e6-e9ed-44ef-b1a5-f461fc4543cb"
      },
      "execution_count": 11,
      "outputs": [
        {
          "output_type": "execute_result",
          "data": {
            "text/plain": [
              "<bound method Model.summary of <keras.engine.sequential.Sequential object at 0x7fce57473430>>"
            ]
          },
          "metadata": {},
          "execution_count": 11
        }
      ]
    },
    {
      "cell_type": "code",
      "source": [
        "model_0.get_config()"
      ],
      "metadata": {
        "colab": {
          "base_uri": "https://localhost:8080/"
        },
        "id": "Mv4z6pRKl9IA",
        "outputId": "d4490721-099e-4be7-bed2-9e7fc3a4a46a"
      },
      "execution_count": 12,
      "outputs": [
        {
          "output_type": "execute_result",
          "data": {
            "text/plain": [
              "{'name': 'sequential',\n",
              " 'layers': [{'class_name': 'InputLayer',\n",
              "   'config': {'batch_input_shape': (None, 784),\n",
              "    'dtype': 'float32',\n",
              "    'sparse': False,\n",
              "    'ragged': False,\n",
              "    'name': 'dense_layer_input'}},\n",
              "  {'class_name': 'Dense',\n",
              "   'config': {'name': 'dense_layer',\n",
              "    'trainable': True,\n",
              "    'dtype': 'float32',\n",
              "    'batch_input_shape': (None, 784),\n",
              "    'units': 10,\n",
              "    'activation': 'softmax',\n",
              "    'use_bias': True,\n",
              "    'kernel_initializer': {'class_name': 'GlorotUniform',\n",
              "     'config': {'seed': None}},\n",
              "    'bias_initializer': {'class_name': 'Zeros', 'config': {}},\n",
              "    'kernel_regularizer': None,\n",
              "    'bias_regularizer': None,\n",
              "    'activity_regularizer': None,\n",
              "    'kernel_constraint': None,\n",
              "    'bias_constraint': None}}]}"
            ]
          },
          "metadata": {},
          "execution_count": 12
        }
      ]
    },
    {
      "cell_type": "code",
      "source": [
        "#Most common type of model is a stack of layers\n",
        "model_1 = tf.keras.Sequential()\n",
        "N_hidden = 64\n",
        "# Adds a densely-connected layer with 64 units to the model:\n",
        "model_1.add(Dense(N_hidden, name='dense_layer', input_shape=(784,), activation = 'relu'))\n",
        "# Now the model will take as input arrays of shape (*, 784)# and output arrays of shape (*, 64)\n",
        "\n",
        "# Adding another dense layer:\n",
        "model_1.add(Dense(N_hidden, name='dense_layer_2', activation='relu'))\n",
        "# After the first layer, you don't need to specify\u000b# the size of the input anymore:\n",
        "# Add an output layer with 10 output units (10 different classes):\n",
        "model_1.add(Dense(10, name='dense_layer_3', activation = 'softmax'))"
      ],
      "metadata": {
        "id": "dWC6_oAOlLbl"
      },
      "execution_count": 13,
      "outputs": []
    },
    {
      "cell_type": "code",
      "source": [
        "#Most common type of model is a stack of layers\n",
        "model_1 = tf.keras.Sequential()\n",
        "N_hidden = 64\n",
        "# Adds a densely-connected layer with 64 units to the model:\n",
        "model_1.add(Dense(N_hidden, name='dense_layer', input_shape=(784,), activation = 'relu'))\n",
        "# Now the model will take as input arrays of shape (*, 784)# and output arrays of shape (*, 64)\n",
        "\n",
        "# Adding another dense layer:\n",
        "model_1.add(Dense(N_hidden, name='dense_layer_2', activation='relu'))\n",
        "# After the first layer, you don't need to specify\u000b# the size of the input anymore:\n",
        "# Add an output layer with 10 output units (10 different classes):\n",
        "model_1.add(Dense(10, name='dense_layer_3', activation = 'softmax'))"
      ],
      "metadata": {
        "id": "9zAqVzxxmagZ"
      },
      "execution_count": 14,
      "outputs": []
    },
    {
      "cell_type": "code",
      "source": [
        "# Compiling the model.\n",
        "model_1.compile(optimizer='SGD', \n",
        "              loss='categorical_crossentropy',\n",
        "              metrics=['accuracy'])"
      ],
      "metadata": {
        "id": "-DJc-dFZmakM"
      },
      "execution_count": 15,
      "outputs": []
    },
    {
      "cell_type": "code",
      "source": [
        "# Training the model. \n",
        "training = model_1.fit(X_train, Y_train, batch_size=64, epochs=100, validation_split=0.2) "
      ],
      "metadata": {
        "colab": {
          "base_uri": "https://localhost:8080/"
        },
        "id": "X3gHixI5mao9",
        "outputId": "df2ed02e-54d9-45b0-92a2-ff559e9d94e9"
      },
      "execution_count": 16,
      "outputs": [
        {
          "output_type": "stream",
          "name": "stdout",
          "text": [
            "Epoch 1/100\n",
            "750/750 [==============================] - 3s 3ms/step - loss: 1.1455 - accuracy: 0.6857 - val_loss: 0.5025 - val_accuracy: 0.8743\n",
            "Epoch 2/100\n",
            "750/750 [==============================] - 3s 4ms/step - loss: 0.4394 - accuracy: 0.8817 - val_loss: 0.3547 - val_accuracy: 0.9024\n",
            "Epoch 3/100\n",
            "750/750 [==============================] - 2s 3ms/step - loss: 0.3530 - accuracy: 0.8997 - val_loss: 0.3115 - val_accuracy: 0.9124\n",
            "Epoch 4/100\n",
            "750/750 [==============================] - 2s 3ms/step - loss: 0.3149 - accuracy: 0.9104 - val_loss: 0.2855 - val_accuracy: 0.9187\n",
            "Epoch 5/100\n",
            "750/750 [==============================] - 2s 3ms/step - loss: 0.2897 - accuracy: 0.9174 - val_loss: 0.2640 - val_accuracy: 0.9233\n",
            "Epoch 6/100\n",
            "750/750 [==============================] - 2s 3ms/step - loss: 0.2699 - accuracy: 0.9226 - val_loss: 0.2494 - val_accuracy: 0.9287\n",
            "Epoch 7/100\n",
            "750/750 [==============================] - 3s 4ms/step - loss: 0.2535 - accuracy: 0.9275 - val_loss: 0.2361 - val_accuracy: 0.9327\n",
            "Epoch 8/100\n",
            "750/750 [==============================] - 2s 3ms/step - loss: 0.2391 - accuracy: 0.9320 - val_loss: 0.2255 - val_accuracy: 0.9377\n",
            "Epoch 9/100\n",
            "750/750 [==============================] - 2s 3ms/step - loss: 0.2264 - accuracy: 0.9351 - val_loss: 0.2159 - val_accuracy: 0.9396\n",
            "Epoch 10/100\n",
            "750/750 [==============================] - 2s 3ms/step - loss: 0.2149 - accuracy: 0.9385 - val_loss: 0.2079 - val_accuracy: 0.9420\n",
            "Epoch 11/100\n",
            "750/750 [==============================] - 2s 3ms/step - loss: 0.2049 - accuracy: 0.9417 - val_loss: 0.1998 - val_accuracy: 0.9442\n",
            "Epoch 12/100\n",
            "750/750 [==============================] - 3s 3ms/step - loss: 0.1957 - accuracy: 0.9444 - val_loss: 0.1929 - val_accuracy: 0.9443\n",
            "Epoch 13/100\n",
            "750/750 [==============================] - 3s 4ms/step - loss: 0.1873 - accuracy: 0.9458 - val_loss: 0.1853 - val_accuracy: 0.9468\n",
            "Epoch 14/100\n",
            "750/750 [==============================] - 2s 3ms/step - loss: 0.1797 - accuracy: 0.9488 - val_loss: 0.1806 - val_accuracy: 0.9499\n",
            "Epoch 15/100\n",
            "750/750 [==============================] - 2s 3ms/step - loss: 0.1728 - accuracy: 0.9505 - val_loss: 0.1775 - val_accuracy: 0.9493\n",
            "Epoch 16/100\n",
            "750/750 [==============================] - 2s 3ms/step - loss: 0.1663 - accuracy: 0.9521 - val_loss: 0.1703 - val_accuracy: 0.9521\n",
            "Epoch 17/100\n",
            "750/750 [==============================] - 3s 3ms/step - loss: 0.1605 - accuracy: 0.9538 - val_loss: 0.1676 - val_accuracy: 0.9523\n",
            "Epoch 18/100\n",
            "750/750 [==============================] - 3s 4ms/step - loss: 0.1548 - accuracy: 0.9558 - val_loss: 0.1624 - val_accuracy: 0.9537\n",
            "Epoch 19/100\n",
            "750/750 [==============================] - 2s 3ms/step - loss: 0.1497 - accuracy: 0.9575 - val_loss: 0.1590 - val_accuracy: 0.9542\n",
            "Epoch 20/100\n",
            "750/750 [==============================] - 2s 3ms/step - loss: 0.1449 - accuracy: 0.9586 - val_loss: 0.1551 - val_accuracy: 0.9564\n",
            "Epoch 21/100\n",
            "750/750 [==============================] - 3s 4ms/step - loss: 0.1403 - accuracy: 0.9603 - val_loss: 0.1508 - val_accuracy: 0.9568\n",
            "Epoch 22/100\n",
            "750/750 [==============================] - 3s 3ms/step - loss: 0.1356 - accuracy: 0.9616 - val_loss: 0.1501 - val_accuracy: 0.9574\n",
            "Epoch 23/100\n",
            "750/750 [==============================] - 3s 4ms/step - loss: 0.1321 - accuracy: 0.9623 - val_loss: 0.1459 - val_accuracy: 0.9580\n",
            "Epoch 24/100\n",
            "750/750 [==============================] - 2s 3ms/step - loss: 0.1279 - accuracy: 0.9638 - val_loss: 0.1438 - val_accuracy: 0.9585\n",
            "Epoch 25/100\n",
            "750/750 [==============================] - 2s 3ms/step - loss: 0.1242 - accuracy: 0.9644 - val_loss: 0.1422 - val_accuracy: 0.9600\n",
            "Epoch 26/100\n",
            "750/750 [==============================] - 2s 3ms/step - loss: 0.1209 - accuracy: 0.9655 - val_loss: 0.1389 - val_accuracy: 0.9603\n",
            "Epoch 27/100\n",
            "750/750 [==============================] - 2s 3ms/step - loss: 0.1175 - accuracy: 0.9665 - val_loss: 0.1369 - val_accuracy: 0.9614\n",
            "Epoch 28/100\n",
            "750/750 [==============================] - 3s 4ms/step - loss: 0.1144 - accuracy: 0.9676 - val_loss: 0.1352 - val_accuracy: 0.9599\n",
            "Epoch 29/100\n",
            "750/750 [==============================] - 2s 3ms/step - loss: 0.1112 - accuracy: 0.9681 - val_loss: 0.1355 - val_accuracy: 0.9617\n",
            "Epoch 30/100\n",
            "750/750 [==============================] - 2s 3ms/step - loss: 0.1086 - accuracy: 0.9690 - val_loss: 0.1305 - val_accuracy: 0.9624\n",
            "Epoch 31/100\n",
            "750/750 [==============================] - 2s 3ms/step - loss: 0.1057 - accuracy: 0.9697 - val_loss: 0.1316 - val_accuracy: 0.9621\n",
            "Epoch 32/100\n",
            "750/750 [==============================] - 2s 3ms/step - loss: 0.1031 - accuracy: 0.9705 - val_loss: 0.1279 - val_accuracy: 0.9625\n",
            "Epoch 33/100\n",
            "750/750 [==============================] - 3s 4ms/step - loss: 0.1004 - accuracy: 0.9712 - val_loss: 0.1284 - val_accuracy: 0.9635\n",
            "Epoch 34/100\n",
            "750/750 [==============================] - 2s 3ms/step - loss: 0.0984 - accuracy: 0.9717 - val_loss: 0.1263 - val_accuracy: 0.9640\n",
            "Epoch 35/100\n",
            "750/750 [==============================] - 2s 3ms/step - loss: 0.0958 - accuracy: 0.9727 - val_loss: 0.1244 - val_accuracy: 0.9640\n",
            "Epoch 36/100\n",
            "750/750 [==============================] - 2s 3ms/step - loss: 0.0935 - accuracy: 0.9730 - val_loss: 0.1243 - val_accuracy: 0.9633\n",
            "Epoch 37/100\n",
            "750/750 [==============================] - 2s 3ms/step - loss: 0.0912 - accuracy: 0.9740 - val_loss: 0.1212 - val_accuracy: 0.9647\n",
            "Epoch 38/100\n",
            "750/750 [==============================] - 3s 4ms/step - loss: 0.0891 - accuracy: 0.9745 - val_loss: 0.1204 - val_accuracy: 0.9659\n",
            "Epoch 39/100\n",
            "750/750 [==============================] - 2s 3ms/step - loss: 0.0872 - accuracy: 0.9750 - val_loss: 0.1214 - val_accuracy: 0.9644\n",
            "Epoch 40/100\n",
            "750/750 [==============================] - 2s 3ms/step - loss: 0.0852 - accuracy: 0.9756 - val_loss: 0.1187 - val_accuracy: 0.9659\n",
            "Epoch 41/100\n",
            "750/750 [==============================] - 2s 3ms/step - loss: 0.0832 - accuracy: 0.9763 - val_loss: 0.1170 - val_accuracy: 0.9647\n",
            "Epoch 42/100\n",
            "750/750 [==============================] - 2s 3ms/step - loss: 0.0814 - accuracy: 0.9772 - val_loss: 0.1182 - val_accuracy: 0.9648\n",
            "Epoch 43/100\n",
            "750/750 [==============================] - 3s 4ms/step - loss: 0.0793 - accuracy: 0.9779 - val_loss: 0.1154 - val_accuracy: 0.9657\n",
            "Epoch 44/100\n",
            "750/750 [==============================] - 3s 4ms/step - loss: 0.0778 - accuracy: 0.9778 - val_loss: 0.1146 - val_accuracy: 0.9656\n",
            "Epoch 45/100\n",
            "750/750 [==============================] - 2s 3ms/step - loss: 0.0760 - accuracy: 0.9786 - val_loss: 0.1144 - val_accuracy: 0.9675\n",
            "Epoch 46/100\n",
            "750/750 [==============================] - 3s 3ms/step - loss: 0.0742 - accuracy: 0.9787 - val_loss: 0.1148 - val_accuracy: 0.9659\n",
            "Epoch 47/100\n",
            "750/750 [==============================] - 2s 3ms/step - loss: 0.0729 - accuracy: 0.9796 - val_loss: 0.1133 - val_accuracy: 0.9680\n",
            "Epoch 48/100\n",
            "750/750 [==============================] - 3s 4ms/step - loss: 0.0715 - accuracy: 0.9801 - val_loss: 0.1120 - val_accuracy: 0.9685\n",
            "Epoch 49/100\n",
            "750/750 [==============================] - 3s 4ms/step - loss: 0.0700 - accuracy: 0.9802 - val_loss: 0.1105 - val_accuracy: 0.9672\n",
            "Epoch 50/100\n",
            "750/750 [==============================] - 2s 3ms/step - loss: 0.0682 - accuracy: 0.9811 - val_loss: 0.1103 - val_accuracy: 0.9681\n",
            "Epoch 51/100\n",
            "750/750 [==============================] - 2s 3ms/step - loss: 0.0671 - accuracy: 0.9814 - val_loss: 0.1096 - val_accuracy: 0.9678\n",
            "Epoch 52/100\n",
            "750/750 [==============================] - 2s 3ms/step - loss: 0.0657 - accuracy: 0.9817 - val_loss: 0.1094 - val_accuracy: 0.9675\n",
            "Epoch 53/100\n",
            "750/750 [==============================] - 3s 4ms/step - loss: 0.0645 - accuracy: 0.9816 - val_loss: 0.1089 - val_accuracy: 0.9676\n",
            "Epoch 54/100\n",
            "750/750 [==============================] - 3s 4ms/step - loss: 0.0629 - accuracy: 0.9827 - val_loss: 0.1083 - val_accuracy: 0.9679\n",
            "Epoch 55/100\n",
            "750/750 [==============================] - 2s 3ms/step - loss: 0.0615 - accuracy: 0.9832 - val_loss: 0.1088 - val_accuracy: 0.9674\n",
            "Epoch 56/100\n",
            "750/750 [==============================] - 2s 3ms/step - loss: 0.0605 - accuracy: 0.9830 - val_loss: 0.1087 - val_accuracy: 0.9680\n",
            "Epoch 57/100\n",
            "750/750 [==============================] - 2s 3ms/step - loss: 0.0591 - accuracy: 0.9838 - val_loss: 0.1069 - val_accuracy: 0.9681\n",
            "Epoch 58/100\n",
            "750/750 [==============================] - 2s 3ms/step - loss: 0.0577 - accuracy: 0.9842 - val_loss: 0.1081 - val_accuracy: 0.9686\n",
            "Epoch 59/100\n",
            "750/750 [==============================] - 3s 4ms/step - loss: 0.0569 - accuracy: 0.9842 - val_loss: 0.1061 - val_accuracy: 0.9688\n",
            "Epoch 60/100\n",
            "750/750 [==============================] - 2s 3ms/step - loss: 0.0556 - accuracy: 0.9848 - val_loss: 0.1064 - val_accuracy: 0.9697\n",
            "Epoch 61/100\n",
            "750/750 [==============================] - 2s 3ms/step - loss: 0.0547 - accuracy: 0.9850 - val_loss: 0.1059 - val_accuracy: 0.9697\n",
            "Epoch 62/100\n",
            "750/750 [==============================] - 2s 3ms/step - loss: 0.0534 - accuracy: 0.9854 - val_loss: 0.1060 - val_accuracy: 0.9689\n",
            "Epoch 63/100\n",
            "750/750 [==============================] - 3s 3ms/step - loss: 0.0524 - accuracy: 0.9857 - val_loss: 0.1065 - val_accuracy: 0.9702\n",
            "Epoch 64/100\n",
            "750/750 [==============================] - 3s 4ms/step - loss: 0.0513 - accuracy: 0.9860 - val_loss: 0.1045 - val_accuracy: 0.9702\n",
            "Epoch 65/100\n",
            "750/750 [==============================] - 2s 3ms/step - loss: 0.0506 - accuracy: 0.9865 - val_loss: 0.1050 - val_accuracy: 0.9690\n",
            "Epoch 66/100\n",
            "750/750 [==============================] - 2s 3ms/step - loss: 0.0495 - accuracy: 0.9867 - val_loss: 0.1048 - val_accuracy: 0.9698\n",
            "Epoch 67/100\n",
            "750/750 [==============================] - 2s 3ms/step - loss: 0.0486 - accuracy: 0.9870 - val_loss: 0.1088 - val_accuracy: 0.9678\n",
            "Epoch 68/100\n",
            "750/750 [==============================] - 2s 3ms/step - loss: 0.0476 - accuracy: 0.9874 - val_loss: 0.1044 - val_accuracy: 0.9703\n",
            "Epoch 69/100\n",
            "750/750 [==============================] - 3s 5ms/step - loss: 0.0468 - accuracy: 0.9871 - val_loss: 0.1036 - val_accuracy: 0.9702\n",
            "Epoch 70/100\n",
            "750/750 [==============================] - 2s 3ms/step - loss: 0.0458 - accuracy: 0.9882 - val_loss: 0.1042 - val_accuracy: 0.9708\n",
            "Epoch 71/100\n",
            "750/750 [==============================] - 2s 3ms/step - loss: 0.0449 - accuracy: 0.9885 - val_loss: 0.1043 - val_accuracy: 0.9697\n",
            "Epoch 72/100\n",
            "750/750 [==============================] - 2s 3ms/step - loss: 0.0442 - accuracy: 0.9883 - val_loss: 0.1036 - val_accuracy: 0.9703\n",
            "Epoch 73/100\n",
            "750/750 [==============================] - 2s 3ms/step - loss: 0.0432 - accuracy: 0.9887 - val_loss: 0.1028 - val_accuracy: 0.9710\n",
            "Epoch 74/100\n",
            "750/750 [==============================] - 4s 5ms/step - loss: 0.0423 - accuracy: 0.9892 - val_loss: 0.1029 - val_accuracy: 0.9710\n",
            "Epoch 75/100\n",
            "750/750 [==============================] - 2s 3ms/step - loss: 0.0417 - accuracy: 0.9894 - val_loss: 0.1044 - val_accuracy: 0.9700\n",
            "Epoch 76/100\n",
            "750/750 [==============================] - 2s 3ms/step - loss: 0.0408 - accuracy: 0.9895 - val_loss: 0.1034 - val_accuracy: 0.9710\n",
            "Epoch 77/100\n",
            "750/750 [==============================] - 2s 3ms/step - loss: 0.0403 - accuracy: 0.9895 - val_loss: 0.1027 - val_accuracy: 0.9710\n",
            "Epoch 78/100\n",
            "750/750 [==============================] - 2s 3ms/step - loss: 0.0394 - accuracy: 0.9897 - val_loss: 0.1043 - val_accuracy: 0.9694\n",
            "Epoch 79/100\n",
            "750/750 [==============================] - 3s 5ms/step - loss: 0.0385 - accuracy: 0.9904 - val_loss: 0.1061 - val_accuracy: 0.9694\n",
            "Epoch 80/100\n",
            "750/750 [==============================] - 2s 3ms/step - loss: 0.0379 - accuracy: 0.9908 - val_loss: 0.1028 - val_accuracy: 0.9713\n",
            "Epoch 81/100\n",
            "750/750 [==============================] - 3s 4ms/step - loss: 0.0372 - accuracy: 0.9906 - val_loss: 0.1039 - val_accuracy: 0.9703\n",
            "Epoch 82/100\n",
            "750/750 [==============================] - 3s 4ms/step - loss: 0.0366 - accuracy: 0.9909 - val_loss: 0.1031 - val_accuracy: 0.9708\n",
            "Epoch 83/100\n",
            "750/750 [==============================] - 2s 3ms/step - loss: 0.0359 - accuracy: 0.9915 - val_loss: 0.1039 - val_accuracy: 0.9703\n",
            "Epoch 84/100\n",
            "750/750 [==============================] - 3s 4ms/step - loss: 0.0353 - accuracy: 0.9916 - val_loss: 0.1043 - val_accuracy: 0.9701\n",
            "Epoch 85/100\n",
            "750/750 [==============================] - 2s 3ms/step - loss: 0.0347 - accuracy: 0.9919 - val_loss: 0.1046 - val_accuracy: 0.9707\n",
            "Epoch 86/100\n",
            "750/750 [==============================] - 2s 3ms/step - loss: 0.0339 - accuracy: 0.9921 - val_loss: 0.1032 - val_accuracy: 0.9703\n",
            "Epoch 87/100\n",
            "750/750 [==============================] - 2s 3ms/step - loss: 0.0332 - accuracy: 0.9921 - val_loss: 0.1024 - val_accuracy: 0.9711\n",
            "Epoch 88/100\n",
            "750/750 [==============================] - 2s 3ms/step - loss: 0.0329 - accuracy: 0.9925 - val_loss: 0.1036 - val_accuracy: 0.9711\n",
            "Epoch 89/100\n",
            "750/750 [==============================] - 3s 4ms/step - loss: 0.0321 - accuracy: 0.9925 - val_loss: 0.1036 - val_accuracy: 0.9707\n",
            "Epoch 90/100\n",
            "750/750 [==============================] - 2s 3ms/step - loss: 0.0315 - accuracy: 0.9930 - val_loss: 0.1044 - val_accuracy: 0.9700\n",
            "Epoch 91/100\n",
            "750/750 [==============================] - 2s 3ms/step - loss: 0.0310 - accuracy: 0.9927 - val_loss: 0.1036 - val_accuracy: 0.9707\n",
            "Epoch 92/100\n",
            "750/750 [==============================] - 2s 3ms/step - loss: 0.0305 - accuracy: 0.9931 - val_loss: 0.1042 - val_accuracy: 0.9709\n",
            "Epoch 93/100\n",
            "750/750 [==============================] - 2s 3ms/step - loss: 0.0300 - accuracy: 0.9928 - val_loss: 0.1043 - val_accuracy: 0.9702\n",
            "Epoch 94/100\n",
            "750/750 [==============================] - 3s 4ms/step - loss: 0.0292 - accuracy: 0.9937 - val_loss: 0.1060 - val_accuracy: 0.9700\n",
            "Epoch 95/100\n",
            "750/750 [==============================] - 3s 4ms/step - loss: 0.0290 - accuracy: 0.9936 - val_loss: 0.1063 - val_accuracy: 0.9697\n",
            "Epoch 96/100\n",
            "750/750 [==============================] - 2s 3ms/step - loss: 0.0282 - accuracy: 0.9939 - val_loss: 0.1054 - val_accuracy: 0.9704\n",
            "Epoch 97/100\n",
            "750/750 [==============================] - 2s 3ms/step - loss: 0.0279 - accuracy: 0.9939 - val_loss: 0.1038 - val_accuracy: 0.9707\n",
            "Epoch 98/100\n",
            "750/750 [==============================] - 2s 3ms/step - loss: 0.0273 - accuracy: 0.9943 - val_loss: 0.1047 - val_accuracy: 0.9706\n",
            "Epoch 99/100\n",
            "750/750 [==============================] - 3s 3ms/step - loss: 0.0269 - accuracy: 0.9945 - val_loss: 0.1041 - val_accuracy: 0.9705\n",
            "Epoch 100/100\n",
            "750/750 [==============================] - 3s 4ms/step - loss: 0.0263 - accuracy: 0.9946 - val_loss: 0.1057 - val_accuracy: 0.9706\n"
          ]
        }
      ]
    },
    {
      "cell_type": "code",
      "source": [
        "import matplotlib.pyplot as plt\n",
        "%matplotlib inline\n",
        "# list all data in training\n",
        "print(training.history.keys())\n",
        "# summarize training for accuracy\n",
        "plt.plot(training.history['accuracy'])\n",
        "plt.plot(training.history['val_accuracy'])\n",
        "plt.title('model accuracy')\n",
        "plt.ylabel('accuracy')\n",
        "plt.xlabel('epoch')\n",
        "plt.legend(['train', 'test'], loc='upper left')\n",
        "plt.show()\n",
        "# summarize traning for loss\n",
        "plt.plot(training.history['loss'])\n",
        "plt.plot(training.history['val_loss'])\n",
        "plt.title('model loss')\n",
        "plt.ylabel('loss')\n",
        "plt.xlabel('epoch')\n",
        "plt.legend(['train', 'test'], loc='upper left')\n",
        "plt.show()"
      ],
      "metadata": {
        "colab": {
          "base_uri": "https://localhost:8080/",
          "height": 944
        },
        "id": "DnGaHBWxmask",
        "outputId": "ba58fa2c-20bc-4420-a9a5-b38093807534"
      },
      "execution_count": 17,
      "outputs": [
        {
          "output_type": "stream",
          "name": "stdout",
          "text": [
            "dict_keys(['loss', 'accuracy', 'val_loss', 'val_accuracy'])\n"
          ]
        },
        {
          "output_type": "display_data",
          "data": {
            "text/plain": [
              "<Figure size 640x480 with 1 Axes>"
            ],
            "image/png": "[encoded data removed]"
          },
          "metadata": {}
        },
        {
          "output_type": "display_data",
          "data": {
            "text/plain": [
              "<Figure size 640x480 with 1 Axes>"
            ],
            "image/png": "[encoded data removed]"
          },
          "metadata": {}
        }
      ]
    },
    {
      "cell_type": "code",
      "source": [
        "#evaluate the model\n",
        "test_loss, test_acc = model_1.evaluate(X_test, Y_test)\n",
        "print('Test accuracy:', test_acc)"
      ],
      "metadata": {
        "colab": {
          "base_uri": "https://localhost:8080/"
        },
        "id": "93IsngHKmavr",
        "outputId": "75b5ad5d-376d-4f83-8cb7-63ded7dc6548"
      },
      "execution_count": 18,
      "outputs": [
        {
          "output_type": "stream",
          "name": "stdout",
          "text": [
            "313/313 [==============================] - 1s 2ms/step - loss: 0.0947 - accuracy: 0.9718\n",
            "Test accuracy: 0.9718000292778015\n"
          ]
        }
      ]
    },
    {
      "cell_type": "code",
      "source": [
        "model_1.summary"
      ],
      "metadata": {
        "colab": {
          "base_uri": "https://localhost:8080/"
        },
        "id": "YDnAXXsymazE",
        "outputId": "f61b5dcb-9275-4b10-edf4-6328961d4a9e"
      },
      "execution_count": 19,
      "outputs": [
        {
          "output_type": "execute_result",
          "data": {
            "text/plain": [
              "<bound method Model.summary of <keras.engine.sequential.Sequential object at 0x7fcdc366f4c0>>"
            ]
          },
          "metadata": {},
          "execution_count": 19
        }
      ]
    },
    {
      "cell_type": "code",
      "source": [
        "model_1.weights"
      ],
      "metadata": {
        "colab": {
          "base_uri": "https://localhost:8080/"
        },
        "id": "3Ha0XUU4ma7C",
        "outputId": "ec5e0538-2587-491d-f0f5-1a104e47ac59"
      },
      "execution_count": 20,
      "outputs": [
        {
          "output_type": "execute_result",
          "data": {
            "text/plain": [
              "[<tf.Variable 'dense_layer/kernel:0' shape=(784, 64) dtype=float32, numpy=\n",
              " array([[-4.1943178e-02, -7.3633477e-02,  6.8137340e-02, ...,\n",
              "          1.1471629e-02, -4.6105087e-02, -8.3049312e-02],\n",
              "        [-2.5015224e-02, -1.7335907e-02, -6.8998799e-02, ...,\n",
              "          4.5882262e-02, -2.6359975e-02,  3.7427261e-02],\n",
              "        [-7.9923071e-02,  5.2518971e-02, -2.6970062e-02, ...,\n",
              "         -4.0848047e-02,  6.4242117e-02,  5.9925020e-05],\n",
              "        ...,\n",
              "        [-6.9406614e-02, -7.2035030e-02, -3.4789000e-02, ...,\n",
              "         -1.9511059e-03, -4.1873168e-02, -1.6663656e-02],\n",
              "        [ 4.3006606e-02,  7.8797065e-02, -7.9268508e-02, ...,\n",
              "          6.9878943e-02, -3.7318908e-02,  1.5352733e-02],\n",
              "        [ 2.9064104e-02,  4.9930066e-04,  2.1302722e-02, ...,\n",
              "          4.6188749e-02,  2.8141439e-03, -1.8621199e-02]], dtype=float32)>,\n",
              " <tf.Variable 'dense_layer/bias:0' shape=(64,) dtype=float32, numpy=\n",
              " array([ 0.00175013, -0.01225282, -0.01451912, -0.00404243,  0.00474167,\n",
              "         0.08650024, -0.03004927,  0.04039663,  0.08679874, -0.10643692,\n",
              "        -0.00843546,  0.01799048,  0.03270165, -0.0903259 ,  0.00471201,\n",
              "        -0.00267789,  0.12423829,  0.06152637,  0.02451937,  0.09899897,\n",
              "         0.06120661,  0.07490554, -0.0454523 , -0.06323852, -0.01315844,\n",
              "         0.04099431,  0.03596862, -0.08721013,  0.06759821,  0.16002728,\n",
              "        -0.10042908,  0.21318245, -0.01504656,  0.02356598,  0.01902997,\n",
              "        -0.02925779, -0.13971451,  0.04540781,  0.01996829, -0.05557302,\n",
              "        -0.08484726,  0.05452341, -0.10355946,  0.1505555 , -0.09831694,\n",
              "         0.00662852,  0.05112674,  0.13120164,  0.18861899,  0.00984057,\n",
              "         0.08064205, -0.10389806, -0.04901642,  0.22030564,  0.09345976,\n",
              "        -0.08222097,  0.06274242, -0.08735462,  0.00494813,  0.03180874,\n",
              "         0.1549834 ,  0.07319538,  0.13536432,  0.0005712 ], dtype=float32)>,\n",
              " <tf.Variable 'dense_layer_2/kernel:0' shape=(64, 64) dtype=float32, numpy=\n",
              " array([[-0.10085535, -0.07970657, -0.01934388, ..., -0.10523939,\n",
              "         -0.1560439 , -0.07952898],\n",
              "        [-0.0183584 ,  0.00691803, -0.08242394, ..., -0.03506943,\n",
              "         -0.29650268, -0.16535176],\n",
              "        [ 0.43425593, -0.12951055, -0.32022518, ...,  0.25917184,\n",
              "          0.23071615,  0.32973737],\n",
              "        ...,\n",
              "        [ 0.1201225 , -0.12584554,  0.04231832, ..., -0.15550496,\n",
              "          0.36078057,  0.03471782],\n",
              "        [ 0.17454077,  0.07688959, -0.00196106, ...,  0.15591085,\n",
              "         -0.17248935,  0.05953306],\n",
              "        [-0.17231718, -0.14914851,  0.31946403, ..., -0.01228378,\n",
              "          0.2442515 ,  0.02988456]], dtype=float32)>,\n",
              " <tf.Variable 'dense_layer_2/bias:0' shape=(64,) dtype=float32, numpy=\n",
              " array([ 7.2371066e-02, -2.2265015e-03,  6.7691505e-02, -8.5133508e-02,\n",
              "         5.8059584e-02, -1.7601691e-02,  5.0108500e-02, -2.1447033e-04,\n",
              "         2.3007169e-02,  5.1177733e-02, -1.4942721e-04,  9.4517712e-03,\n",
              "        -1.0313197e-02,  7.4023895e-02,  1.4673166e-01, -1.7708931e-02,\n",
              "         2.7556777e-02,  9.9799976e-02,  8.3642356e-02, -4.4949505e-02,\n",
              "         1.4755006e-01,  1.0137983e-02,  1.2285778e-01,  2.5786465e-02,\n",
              "         5.1700909e-02,  5.2699108e-02,  6.2722407e-02,  7.2914870e-03,\n",
              "        -9.5291325e-04,  6.2836846e-03,  4.1506406e-02,  9.8955624e-02,\n",
              "         3.6978245e-02,  1.1897568e-02, -1.1927053e-02, -1.0086117e-02,\n",
              "        -1.5973730e-02,  5.2345946e-02,  1.9153828e-02,  1.3147271e-01,\n",
              "        -1.1982758e-02,  9.6852772e-02,  7.5725108e-02,  1.6381210e-02,\n",
              "         4.4228632e-02, -4.1353251e-03,  5.2340984e-02,  1.0095945e-01,\n",
              "         1.1866865e-01,  6.6174515e-02,  2.9933102e-02,  1.7586027e-01,\n",
              "         3.0659860e-02, -3.5247852e-03,  5.8285870e-02, -6.1500508e-02,\n",
              "        -3.2669365e-02, -2.7290652e-02, -6.8220464e-03,  9.4841994e-02,\n",
              "         1.2634241e-02, -1.3712813e-02, -4.5160130e-03,  1.5981531e-02],\n",
              "       dtype=float32)>,\n",
              " <tf.Variable 'dense_layer_3/kernel:0' shape=(64, 10) dtype=float32, numpy=\n",
              " array([[ 1.26513332e-01, -2.71836132e-01,  6.64654553e-01,\n",
              "          5.88174939e-01, -2.35228702e-01,  3.94031912e-01,\n",
              "          2.71546151e-02,  3.99868369e-01, -5.22612572e-01,\n",
              "         -6.67216659e-01],\n",
              "        [ 1.44879371e-01, -1.42920762e-02, -8.45374763e-02,\n",
              "          4.52607237e-02, -4.98939417e-02,  8.76633897e-02,\n",
              "          8.40168148e-02, -9.65058687e-04, -1.02437153e-01,\n",
              "          1.43818870e-01],\n",
              "        [ 2.20122114e-01, -3.12981725e-01, -4.00893629e-01,\n",
              "          4.91550600e-05, -1.92574576e-01,  4.07137334e-01,\n",
              "         -9.48260054e-02,  1.62671730e-01, -1.93253547e-01,\n",
              "          9.49453831e-01],\n",
              "        [ 2.02292472e-01,  4.17618275e-01,  1.18954189e-01,\n",
              "          1.39479399e-01,  8.12805220e-02,  1.24783322e-01,\n",
              "          1.52638376e-01,  2.53939867e-01, -7.08885372e-01,\n",
              "         -4.42882031e-01],\n",
              "        [-1.70914263e-01,  3.82009208e-01,  4.79330152e-01,\n",
              "         -6.27484798e-01,  2.69816518e-01, -4.59343702e-01,\n",
              "         -1.90241039e-01,  1.62922889e-01, -4.99645144e-01,\n",
              "         -2.18791947e-01],\n",
              "        [ 1.60859361e-01, -1.38789564e-01, -3.22031558e-01,\n",
              "         -1.19657189e-01, -2.00683504e-01,  2.05210447e-01,\n",
              "         -1.40542775e-01,  2.40255073e-01, -2.41041139e-01,\n",
              "          3.04621132e-03],\n",
              "        [ 1.92803904e-01,  2.21607551e-01, -2.66346663e-01,\n",
              "          1.95144311e-01, -1.83990851e-01,  2.09157988e-01,\n",
              "         -1.35553718e-01,  2.17569590e-01,  1.99666724e-01,\n",
              "         -2.60619044e-01],\n",
              "        [-1.10653164e-02, -2.62368649e-01, -1.79574803e-01,\n",
              "          5.46587408e-02, -1.30282074e-01, -2.16683105e-01,\n",
              "          2.82682091e-01, -1.97469145e-01, -2.46426538e-02,\n",
              "          2.12863952e-01],\n",
              "        [ 1.69089928e-01, -9.49868709e-02, -6.95049837e-02,\n",
              "          2.17364371e-01,  1.37361530e-02, -1.41199633e-01,\n",
              "         -9.39907581e-02,  3.33502650e-01,  3.02884966e-01,\n",
              "         -3.70984942e-01],\n",
              "        [ 3.20170790e-01, -7.33924627e-01,  1.36038408e-01,\n",
              "          6.68329820e-02, -3.14718753e-01,  5.17146707e-01,\n",
              "          2.19171613e-01, -7.67347515e-01,  1.29938662e-01,\n",
              "          9.59645212e-01],\n",
              "        [ 1.46515369e-01,  4.28665340e-01, -2.21302822e-01,\n",
              "         -5.82200773e-02, -4.94424924e-02, -9.52685659e-04,\n",
              "         -5.84515184e-03,  1.34953424e-01,  1.76415905e-01,\n",
              "          3.06122995e-04],\n",
              "        [ 3.54529798e-01, -5.03821135e-01,  1.02473453e-01,\n",
              "         -4.25817251e-01, -8.38988066e-01,  3.18483800e-01,\n",
              "          3.46850753e-01, -1.17984205e-01,  9.51203585e-01,\n",
              "         -3.99275124e-01],\n",
              "        [ 2.21352637e-01,  2.19015796e-02, -9.12197679e-02,\n",
              "          4.09710445e-02, -7.68616870e-02, -7.29121640e-02,\n",
              "          2.55504549e-01, -2.34392151e-01,  2.85324976e-02,\n",
              "         -7.49989375e-02],\n",
              "        [-7.44169414e-01,  2.41779447e-01, -2.86110997e-01,\n",
              "          4.21193391e-01, -4.33492154e-01,  5.00477314e-01,\n",
              "         -3.11943829e-01, -1.52512953e-01,  6.45222962e-01,\n",
              "          6.92587928e-05],\n",
              "        [-4.77467149e-01,  2.21027777e-01,  1.07994266e-02,\n",
              "         -6.79529428e-01,  3.15666407e-01,  3.49963874e-01,\n",
              "          7.41010308e-01,  6.53710902e-01, -4.45443720e-01,\n",
              "         -3.10206413e-01],\n",
              "        [ 2.82331388e-02, -1.22111507e-01,  2.64558166e-01,\n",
              "          7.02657998e-02, -7.63583556e-02, -8.51891488e-02,\n",
              "         -7.29604661e-02,  7.22237527e-02, -3.61418643e-05,\n",
              "         -2.69808382e-01],\n",
              "        [ 1.87180877e-01,  6.71739936e-01, -3.44329566e-01,\n",
              "         -4.13341314e-01, -2.48805255e-01, -1.02503881e-01,\n",
              "          4.98743206e-02, -4.45238203e-01, -4.45152223e-02,\n",
              "         -1.35943532e-01],\n",
              "        [-1.96427032e-01, -1.11607984e-02,  4.08501923e-01,\n",
              "          5.89046955e-01, -2.14929774e-01, -2.96981901e-01,\n",
              "         -2.78712898e-01,  4.76504713e-01, -5.96811831e-01,\n",
              "          3.40843499e-01],\n",
              "        [-2.43878052e-01, -5.89816570e-01,  1.83905646e-01,\n",
              "          5.72315753e-01,  4.20063198e-01, -6.27503693e-01,\n",
              "          3.46879691e-01, -7.98150420e-01,  8.19561779e-01,\n",
              "         -4.90721641e-03],\n",
              "        [ 4.21087086e-01, -9.83378068e-02,  8.57830167e-01,\n",
              "          3.10443521e-01, -6.30872905e-01, -7.75473177e-01,\n",
              "         -5.67463338e-01, -2.67423540e-01, -3.11233401e-01,\n",
              "          1.06432587e-01],\n",
              "        [-3.93956244e-01,  4.92834160e-03, -2.43002977e-02,\n",
              "          5.24159102e-03,  7.32849717e-01, -8.70299190e-02,\n",
              "         -7.18163311e-01,  7.01954424e-01,  4.82934853e-03,\n",
              "          3.88026863e-01],\n",
              "        [ 4.10934091e-02,  1.29725859e-01, -2.35885426e-01,\n",
              "         -2.26626955e-02, -1.52888477e-01, -3.54224443e-01,\n",
              "         -2.74461925e-01,  2.56539527e-02, -2.11753532e-01,\n",
              "         -8.47479403e-02],\n",
              "        [-2.66684532e-01,  5.28822169e-02, -2.74486095e-01,\n",
              "         -6.66685477e-02,  4.79570419e-01, -4.47666168e-01,\n",
              "          1.56898409e-01,  6.31052196e-01,  3.93289030e-02,\n",
              "          1.19487979e-01],\n",
              "        [-3.09747189e-01, -2.20172137e-01,  5.50258122e-02,\n",
              "          2.64817804e-01, -1.64409772e-01,  3.75428736e-01,\n",
              "          2.40405705e-02, -3.52679640e-01,  2.40509555e-01,\n",
              "         -3.08861494e-01],\n",
              "        [-2.02265173e-01, -3.95176858e-01, -2.91664392e-01,\n",
              "         -1.69601694e-01,  1.52506297e-02,  4.04920161e-01,\n",
              "         -1.10481963e-01, -2.13560343e-01,  3.46627802e-01,\n",
              "         -1.77187413e-01],\n",
              "        [-2.10039690e-01,  1.47612810e-01, -5.95938683e-01,\n",
              "          2.19742414e-02, -2.32283145e-01,  5.95135987e-01,\n",
              "          3.00082803e-01, -1.51325822e-01,  2.93114126e-01,\n",
              "         -6.55786544e-02],\n",
              "        [ 3.54585975e-01,  1.54610932e-01,  2.42112741e-01,\n",
              "          4.22087461e-01, -1.28152728e-01, -6.65875614e-01,\n",
              "         -1.42033979e-01, -7.79392943e-02,  2.18778729e-01,\n",
              "          9.69927832e-02],\n",
              "        [ 1.87339067e-01, -1.22580312e-01,  6.30444407e-01,\n",
              "          2.85327643e-01,  3.30318660e-01, -4.83110428e-01,\n",
              "          1.98235046e-02, -5.18513024e-02, -5.13711333e-01,\n",
              "          1.39835730e-01],\n",
              "        [ 1.48900095e-02, -3.06617375e-02, -2.14631379e-01,\n",
              "          1.09522164e-01,  2.69364446e-01,  2.21762747e-01,\n",
              "         -3.86909246e-02,  2.31551558e-01, -1.25716656e-01,\n",
              "         -2.81308383e-01],\n",
              "        [-5.54031059e-02,  3.22102636e-01,  6.87312603e-01,\n",
              "         -4.86710578e-01, -6.22505248e-01, -1.42388165e-01,\n",
              "          1.23789780e-01,  2.87965298e-01,  3.69370699e-01,\n",
              "         -1.48124531e-01],\n",
              "        [ 4.32475805e-01, -1.39040172e-01,  3.18933040e-01,\n",
              "         -6.05361938e-01,  6.41494870e-01, -6.39428735e-01,\n",
              "         -6.17257245e-02, -2.42726728e-01,  3.05315673e-01,\n",
              "          2.68229753e-01],\n",
              "        [-4.63254273e-01,  4.96758491e-01, -5.51953197e-01,\n",
              "          2.30561629e-01,  8.33276749e-01,  1.48393065e-01,\n",
              "         -4.23425883e-02, -3.23810279e-01,  4.15179968e-01,\n",
              "          6.86897412e-02],\n",
              "        [ 3.71116787e-01, -5.86182773e-01,  2.59036779e-01,\n",
              "          4.57505256e-01, -1.66300297e-01,  9.07705724e-02,\n",
              "         -3.38165343e-01,  6.98817968e-01,  1.02875531e-01,\n",
              "          8.63357559e-02],\n",
              "        [ 5.08119345e-01,  3.97719920e-01, -5.02907753e-01,\n",
              "         -5.71474671e-01,  1.39201945e-03, -2.84991980e-01,\n",
              "          2.48725370e-01, -2.85636544e-01,  2.36327723e-01,\n",
              "          5.42255998e-01],\n",
              "        [ 2.12243646e-02,  2.99667865e-01,  4.89919752e-01,\n",
              "          2.01767102e-01, -4.82777625e-01, -5.75173259e-01,\n",
              "          2.78533399e-01,  4.02290195e-01, -2.14135960e-01,\n",
              "         -4.65825975e-01],\n",
              "        [ 7.00008750e-01, -9.87387002e-02,  3.89474511e-01,\n",
              "          1.37906685e-01,  9.81359333e-02, -9.76262540e-02,\n",
              "          6.70900345e-01, -2.31862083e-01, -3.25662643e-01,\n",
              "         -7.40339041e-01],\n",
              "        [-3.82464230e-02, -1.37053579e-01,  9.48634073e-02,\n",
              "         -4.95103598e-02,  2.39058565e-02,  2.00187534e-01,\n",
              "          1.60075858e-01,  1.98914066e-01,  2.67039865e-01,\n",
              "         -1.73147947e-01],\n",
              "        [-1.53107330e-01, -5.13460487e-02,  6.33126616e-01,\n",
              "         -1.62315443e-01, -4.80572367e-03,  9.74988118e-02,\n",
              "         -5.11650741e-01, -5.44835448e-01,  3.56096588e-02,\n",
              "          4.32714254e-01],\n",
              "        [-3.04319471e-01, -4.90871996e-01, -1.58062787e-03,\n",
              "         -3.36746961e-01, -3.02285522e-01, -3.36064667e-01,\n",
              "          2.95460939e-01,  6.05340935e-02,  1.17884085e-01,\n",
              "          7.33056590e-02],\n",
              "        [-4.02233422e-01, -1.31726667e-01,  6.83885813e-01,\n",
              "         -1.36124298e-01,  6.91994727e-01,  1.29789293e-01,\n",
              "         -2.67517775e-01, -1.87239319e-01, -1.79672793e-01,\n",
              "         -7.66285598e-01],\n",
              "        [-3.71556669e-01,  3.24809819e-01, -1.21595606e-01,\n",
              "         -1.12232737e-01, -1.39139071e-01,  8.85110199e-01,\n",
              "         -1.62077367e-01, -2.95615315e-01, -3.59658539e-01,\n",
              "         -8.57616290e-02],\n",
              "        [-5.22008121e-01,  1.38323665e-01, -5.76302269e-03,\n",
              "         -3.03102314e-01,  6.61515594e-02,  4.90695208e-01,\n",
              "          6.32332802e-01, -7.27539882e-02, -6.51747465e-01,\n",
              "         -4.89481479e-01],\n",
              "        [-3.73728633e-01,  4.34543580e-01,  5.84472656e-01,\n",
              "         -6.30531788e-01, -2.08539054e-01,  1.16386212e-01,\n",
              "         -4.66446914e-02,  1.25272959e-01, -5.79919696e-01,\n",
              "         -2.45611042e-01],\n",
              "        [ 6.25115573e-01, -2.20707580e-02, -8.32495168e-02,\n",
              "         -3.03373456e-01,  7.36022443e-02,  9.99242440e-02,\n",
              "         -6.30343974e-01,  2.93401271e-01, -5.39156189e-03,\n",
              "         -3.14309329e-01],\n",
              "        [ 4.73134359e-03,  2.65534014e-01,  3.33577484e-01,\n",
              "          1.93748876e-01,  3.52961779e-01,  4.39851880e-02,\n",
              "         -1.70844793e-01, -3.61223102e-01, -5.39871641e-02,\n",
              "          3.14377367e-01],\n",
              "        [ 1.23751506e-01,  6.57442808e-02, -7.11820900e-01,\n",
              "          5.46074510e-01,  8.11468512e-02, -3.44197482e-01,\n",
              "          9.15876999e-02, -1.27505168e-01, -4.98761326e-01,\n",
              "          2.09328189e-01],\n",
              "        [-3.51159036e-01,  1.08445346e-01, -2.68508345e-01,\n",
              "          7.18317509e-01, -3.05826157e-01, -7.45118916e-01,\n",
              "         -2.93665111e-01,  1.92894176e-01,  4.67849344e-01,\n",
              "          2.21548587e-01],\n",
              "        [-7.84440711e-02,  2.01817811e-01,  3.76460776e-02,\n",
              "         -8.18903029e-01,  4.05890048e-01, -3.22113156e-01,\n",
              "          1.99727435e-02,  3.12980205e-01,  2.29003474e-01,\n",
              "         -3.39879133e-02],\n",
              "        [ 3.64064157e-01, -2.02543378e-01, -3.23670954e-01,\n",
              "          2.63345782e-02, -9.98886526e-01, -1.44556731e-01,\n",
              "         -1.22992257e-02,  2.65776306e-01,  2.15595856e-01,\n",
              "          8.99881184e-01],\n",
              "        [ 3.76052916e-01,  1.38451427e-01, -5.68843961e-01,\n",
              "         -5.34534454e-01,  3.13279897e-01,  5.34189522e-01,\n",
              "          2.58183926e-01,  3.82648677e-01,  2.13776380e-02,\n",
              "         -4.52474177e-01],\n",
              "        [-1.54656664e-01,  2.78935358e-02,  9.14771482e-02,\n",
              "         -2.25316599e-01,  2.98652411e-01, -4.49118972e-01,\n",
              "         -8.89416505e-03,  3.37542802e-01,  1.88667208e-01,\n",
              "          2.79055554e-02],\n",
              "        [-2.27767825e-01, -2.46422067e-01, -2.02745292e-02,\n",
              "         -2.26114750e-01,  8.35002184e-01,  3.28881979e-01,\n",
              "         -4.58251119e-01, -2.84907788e-01, -6.21930122e-01,\n",
              "          6.85692966e-01],\n",
              "        [ 2.19092652e-01,  4.58798073e-02, -2.91821450e-01,\n",
              "          2.05276519e-01,  1.50187925e-01, -1.50928376e-02,\n",
              "         -3.34190100e-01, -3.34524959e-01,  7.16067106e-02,\n",
              "          3.65059763e-01],\n",
              "        [-1.60530768e-03, -1.10775651e-02, -2.96419829e-01,\n",
              "         -2.37114295e-01, -1.07884310e-01,  7.64651537e-01,\n",
              "          3.11702222e-01, -5.84651649e-01,  5.31647131e-02,\n",
              "          4.83206570e-01],\n",
              "        [-1.56550333e-01,  2.39456922e-01, -1.31617785e-02,\n",
              "          1.89340070e-01, -6.29198611e-01,  3.34720880e-01,\n",
              "         -4.89278793e-01,  2.31187895e-01, -3.61645877e-01,\n",
              "          3.99542898e-01],\n",
              "        [-2.73290962e-01,  5.83320498e-01,  3.08074187e-02,\n",
              "          9.77690220e-02, -1.21634230e-01,  4.29158174e-02,\n",
              "         -4.36836869e-01,  3.09134156e-01, -4.95279104e-01,\n",
              "         -5.86805284e-01],\n",
              "        [-2.32026249e-01,  2.13479638e-01,  5.80446608e-02,\n",
              "          6.80300534e-01, -3.30841660e-01,  8.18704724e-01,\n",
              "         -6.66972995e-01, -4.54782069e-01, -5.52107036e-01,\n",
              "          1.95036866e-02],\n",
              "        [-3.57096672e-01,  3.01518679e-01,  5.68545222e-01,\n",
              "          1.33939743e-01,  1.37944827e-02, -4.99604732e-01,\n",
              "         -4.89666134e-01,  7.30984449e-01,  3.44634026e-01,\n",
              "         -7.56361306e-01],\n",
              "        [-8.32337327e-03, -8.60349834e-02,  8.57314393e-02,\n",
              "          6.78429976e-02, -5.83952293e-02, -1.30537897e-01,\n",
              "          1.02727450e-01,  2.03337878e-01,  1.56901851e-01,\n",
              "         -3.09545338e-01],\n",
              "        [-2.87792206e-01,  5.32157183e-01, -4.34456803e-02,\n",
              "         -5.17624676e-01,  5.54219246e-01, -7.93192834e-02,\n",
              "         -6.53069541e-02, -3.77635658e-01, -3.45616281e-01,\n",
              "          2.01983005e-01],\n",
              "        [ 3.45612690e-02, -5.29905930e-02, -5.32260180e-01,\n",
              "          4.38840896e-01,  1.22953849e-02,  3.73313218e-01,\n",
              "         -3.66178185e-01, -2.73893505e-01,  4.07963693e-01,\n",
              "         -1.75348401e-01],\n",
              "        [-4.99673963e-01,  8.27456173e-03,  2.63212204e-01,\n",
              "          6.41481042e-01, -6.43696070e-01,  1.77643262e-02,\n",
              "         -3.65067065e-01, -1.37035340e-01, -8.50574374e-02,\n",
              "         -3.42667311e-01],\n",
              "        [ 2.19262868e-01,  7.54519701e-02, -7.56531596e-01,\n",
              "          2.86944453e-02, -5.14545850e-02,  4.23196703e-01,\n",
              "          7.64489055e-01, -4.00068790e-01, -1.19457655e-01,\n",
              "          1.08326495e-01],\n",
              "        [ 1.77039996e-01, -1.43194972e-02, -2.76776642e-01,\n",
              "          4.28190857e-01, -1.92998961e-01,  4.11145359e-01,\n",
              "         -1.93418965e-01,  1.77884355e-01, -8.69959295e-01,\n",
              "         -9.49923769e-02]], dtype=float32)>,\n",
              " <tf.Variable 'dense_layer_3/bias:0' shape=(10,) dtype=float32, numpy=\n",
              " array([-0.1373269 ,  0.10058048, -0.00572121, -0.14288057,  0.08191905,\n",
              "        -0.00900597, -0.03848266,  0.1987607 , -0.15891339,  0.11106934],\n",
              "       dtype=float32)>]"
            ]
          },
          "metadata": {},
          "execution_count": 20
        }
      ]
    },
    {
      "cell_type": "code",
      "source": [],
      "metadata": {
        "id": "EkxJEOvjoCLZ"
      },
      "execution_count": null,
      "outputs": []
    },
    {
      "cell_type": "code",
      "source": [],
      "metadata": {
        "id": "z7UXMgF2oCUu"
      },
      "execution_count": null,
      "outputs": []
    },
    {
      "cell_type": "code",
      "source": [],
      "metadata": {
        "id": "2vvnyI7zoCnN"
      },
      "execution_count": null,
      "outputs": []
    },
    {
      "cell_type": "code",
      "source": [],
      "metadata": {
        "id": "jvKdRKSooCxX"
      },
      "execution_count": null,
      "outputs": []
    },
    {
      "cell_type": "code",
      "source": [],
      "metadata": {
        "id": "8Ebn2Nc458TK"
      },
      "execution_count": null,
      "outputs": []
    }
  ]
}